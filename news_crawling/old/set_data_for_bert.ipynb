{
 "cells": [
  {
   "cell_type": "code",
   "execution_count": 1,
   "metadata": {},
   "outputs": [],
   "source": [
    "import pandas as pd\n",
    "import numpy as np \n",
    "from sklearn.model_selection import train_test_split"
   ]
  },
  {
   "cell_type": "markdown",
   "metadata": {},
   "source": [
    "## data for train"
   ]
  },
  {
   "cell_type": "code",
   "execution_count": 2,
   "metadata": {},
   "outputs": [],
   "source": [
    "def get_data(fname, isTrain=True):\n",
    "    data = []\n",
    "    with open(fname, 'r', encoding='utf-8') as f:\n",
    "        for line in f:\n",
    "            data.append(line) \n",
    "\n",
    "    train_dict = {}\n",
    "\n",
    "    if isTrain == True:\n",
    "        for data_str in data:\n",
    "            item = eval(data_str)\n",
    "            train_dict[item[\"id\"]] = {\"media\" : item[\"media\"], \n",
    "                                     \"article_original\" : item[\"article_original\"],\n",
    "                                     \"abs\":item[\"abstractive\"],\n",
    "                                     \"ext\":item[\"extractive\"],\n",
    "                                     \"news_len\":len(item[\"article_original\"])}\n",
    "    else:\n",
    "        for data_str in data:\n",
    "            item = eval(data_str)\n",
    "            train_dict[item[\"id\"]] = {\"media\" : item[\"media\"], \n",
    "                                     \"article_original\" : item[\"article_original\"],\n",
    "                                     \"news_len\":len(item[\"article_original\"])}\n",
    "        \n",
    "    return train_dict"
   ]
  },
  {
   "cell_type": "code",
   "execution_count": 3,
   "metadata": {},
   "outputs": [],
   "source": [
    "train_dict  = get_data(\"./dacon_ext_summary/data/train.jsonl\")"
   ]
  },
  {
   "cell_type": "code",
   "execution_count": 4,
   "metadata": {},
   "outputs": [
    {
     "data": {
      "text/plain": [
       "{'media': '당진시대',\n",
       " 'article_original': ['당진시 문화관광과를 대상으로 하는 행정사무감사에서 당진시립합창단 관계자가 보낸 것으로 추정되는 문자와 관련해 당진시의회가 행정사무조사특별위원회를 구성해 조사하겠다고 밝혔다.',\n",
       "  '당진시의회 행정사무감사 3일차였던 지난 6일 문화관광과를 대상으로 하는 행감에서 최창용 의원은 “(당진시립합창단 정기연주회를 앞두고) 문자메세지를 제보받았다”며 “(음향팀에 보낸 것으로 추정되는) 해당 문자에는 ‘합창단이 소리를 작게 낼 것이니 알고 있으라’는 내용이었다”고 말했다.',\n",
       "  '이어 “공연에서 소리를 작게 낸다는 것은 합창단으로서 그 임무를 하지 않겠다는 것”이며 “공연 자체를 무력화해 당진시를 망신 주려는 행위”라며 해당 문자를 보낸 단원 등 연루된 사람들을 찾아 사실관계를 확인하고 징계 등 책임을 물어야 한다고 지적했다.',\n",
       "  '문제의 문자메세지를 전달받은 문화관광과는 감사법무담당관에게 조사를 의뢰했다.',\n",
       "  '권경선 문화관광과장은 “누가, 어떻게 해서 해당 문자가 나온 것인지 정확히 조사해봐야 알 수 있다”며 “전달받은 문자 내용도 최 의원이 언급한 부분만 있어, 중간 내용만을 가지고는 전체를 유추할 수 없다”고 전했다.',\n",
       "  '하지만 감사법무담당관실에서 아직 조사가 이뤄지지 않고 있어 당진시가 사태의 심각성을 인지하지 못하고 있다는 지적이다.',\n",
       "  '그동안 행정사무감사가 진행되고 있어 사태를 지켜봤다던 감사법무담당관실에서는 “관계된 사람들을 조사해 사태를 파악해야 하는데, 아직 조사에 대한 뚜렷한 계획이 없다”고 답했다.',\n",
       "  '한편 행감이 끝난 지난 12일 당진시의회에서는 당진시립합창단 문제를 비롯해 구체적인 조사가 필요한 부분에 대해 행정사무조사특별위원회를 구성해 운영하겠다고 밝혔다.',\n",
       "  '김기재 의장은 “본회의 의결과 제적의원 1/3의 발의가 있으면 행정사무조사특별위원회를 구성할 수 있다”며 “다음 달 초 위원들과 상의해 위원회를 구성한다면 당진시립합창단 관련 사안을 비롯해 사회복지기관 위수탁 등에 대해 다룰 계획”이라고 말했다.'],\n",
       " 'abs': \"지난 6일 당진시의회 행정사무감사에서 '합창단이 소리를 작게 낼 것이니 알고 있으라'라는 문자 등으로 불거진 합창단의 의무 불이행 논란에 대해 행정사무조사특별위원회를 구성해 조사를 수행하겠다는 의견을 표명했다.\",\n",
       " 'ext': [0, 1, 2],\n",
       " 'news_len': 9}"
      ]
     },
     "execution_count": 4,
     "metadata": {},
     "output_type": "execute_result"
    }
   ],
   "source": [
    "train_dict[\"327827480\"]"
   ]
  },
  {
   "cell_type": "code",
   "execution_count": 5,
   "metadata": {},
   "outputs": [
    {
     "ename": "KeyError",
     "evalue": "'ext'",
     "output_type": "error",
     "traceback": [
      "\u001b[0;31m---------------------------------------------------------------------------\u001b[0m",
      "\u001b[0;31mKeyError\u001b[0m                                  Traceback (most recent call last)",
      "\u001b[0;32m<ipython-input-5-60c662f8ce50>\u001b[0m in \u001b[0;36m<module>\u001b[0;34m\u001b[0m\n\u001b[1;32m      6\u001b[0m \u001b[0;34m\u001b[0m\u001b[0m\n\u001b[1;32m      7\u001b[0m         \u001b[0mdata_id\u001b[0m \u001b[0;34m=\u001b[0m  \u001b[0mstr\u001b[0m\u001b[0;34m(\u001b[0m\u001b[0mitem\u001b[0m\u001b[0;34m[\u001b[0m\u001b[0;36m0\u001b[0m\u001b[0;34m]\u001b[0m\u001b[0;34m)\u001b[0m \u001b[0;34m+\u001b[0m \u001b[0mstr\u001b[0m\u001b[0;34m(\u001b[0m\u001b[0midx_\u001b[0m\u001b[0;34m)\u001b[0m\u001b[0;34m.\u001b[0m\u001b[0mzfill\u001b[0m\u001b[0;34m(\u001b[0m\u001b[0;36m3\u001b[0m\u001b[0;34m)\u001b[0m\u001b[0;34m\u001b[0m\u001b[0;34m\u001b[0m\u001b[0m\n\u001b[0;32m----> 8\u001b[0;31m         \u001b[0;32mif\u001b[0m \u001b[0midx_\u001b[0m \u001b[0;32min\u001b[0m \u001b[0mitem\u001b[0m\u001b[0;34m[\u001b[0m\u001b[0;36m1\u001b[0m\u001b[0;34m]\u001b[0m\u001b[0;34m[\u001b[0m\u001b[0;34m\"ext\"\u001b[0m\u001b[0;34m]\u001b[0m\u001b[0;34m:\u001b[0m\u001b[0;34m\u001b[0m\u001b[0;34m\u001b[0m\u001b[0m\n\u001b[0m\u001b[1;32m      9\u001b[0m             \u001b[0mlabel\u001b[0m \u001b[0;34m=\u001b[0m \u001b[0;36m1\u001b[0m\u001b[0;34m\u001b[0m\u001b[0;34m\u001b[0m\u001b[0m\n\u001b[1;32m     10\u001b[0m         \u001b[0;32melse\u001b[0m\u001b[0;34m:\u001b[0m\u001b[0;34m\u001b[0m\u001b[0;34m\u001b[0m\u001b[0m\n",
      "\u001b[0;31mKeyError\u001b[0m: 'ext'"
     ]
    }
   ],
   "source": [
    "data_dict={}\n",
    "\n",
    "for item in sub_dict.items():\n",
    "    \n",
    "    for idx_, conts in enumerate(item[1][\"article_original\"]):\n",
    "\n",
    "        data_id =  str(item[0]) + str(idx_).zfill(3)\n",
    "        if idx_ in item[1][\"ext\"]:\n",
    "            label = 1\n",
    "        else:\n",
    "            label = 0\n",
    "        \n",
    "        data_dict[data_id]={\"document\" :conts,\n",
    "                           \"label\" : label,\n",
    "                           \"order_weight\":int((1-idx_/item[1][\"news_len\"])*100)}"
   ]
  },
  {
   "cell_type": "code",
   "execution_count": 11,
   "metadata": {},
   "outputs": [],
   "source": [
    "total_data = pd.DataFrame(data_dict)\n",
    "total_data = total_data.transpose()\n",
    "total_data = total_data.reset_index()\n",
    "total_data = total_data.rename(columns={\"index\" :\"id\"})\n",
    "\n",
    "#total_data[\"news_num\"] = total_data[\"id\"].map(lambda x: x[:-3])"
   ]
  },
  {
   "cell_type": "code",
   "execution_count": 12,
   "metadata": {},
   "outputs": [
    {
     "data": {
      "text/html": [
       "<div>\n",
       "<style scoped>\n",
       "    .dataframe tbody tr th:only-of-type {\n",
       "        vertical-align: middle;\n",
       "    }\n",
       "\n",
       "    .dataframe tbody tr th {\n",
       "        vertical-align: top;\n",
       "    }\n",
       "\n",
       "    .dataframe thead th {\n",
       "        text-align: right;\n",
       "    }\n",
       "</style>\n",
       "<table border=\"1\" class=\"dataframe\">\n",
       "  <thead>\n",
       "    <tr style=\"text-align: right;\">\n",
       "      <th></th>\n",
       "      <th>id</th>\n",
       "      <th>document</th>\n",
       "      <th>label</th>\n",
       "      <th>order_weight</th>\n",
       "    </tr>\n",
       "  </thead>\n",
       "  <tbody>\n",
       "    <tr>\n",
       "      <td>557594</td>\n",
       "      <td>344352232007</td>\n",
       "      <td>극저온용 고망간강은 지난 12월 국제 해사안전위원회(IMO, Internationa...</td>\n",
       "      <td>0</td>\n",
       "      <td>36</td>\n",
       "    </tr>\n",
       "  </tbody>\n",
       "</table>\n",
       "</div>"
      ],
      "text/plain": [
       "                  id                                           document label  \\\n",
       "557594  344352232007  극저온용 고망간강은 지난 12월 국제 해사안전위원회(IMO, Internationa...     0   \n",
       "\n",
       "       order_weight  \n",
       "557594           36  "
      ]
     },
     "execution_count": 12,
     "metadata": {},
     "output_type": "execute_result"
    }
   ],
   "source": [
    "total_data[total_data[\"id\"]==\"344352232007\"]"
   ]
  },
  {
   "cell_type": "code",
   "execution_count": 13,
   "metadata": {},
   "outputs": [],
   "source": [
    "X_train, X_test = train_test_split(total_data, test_size=0.2, random_state=123, stratify=total_data[\"label\"])\n",
    "\n",
    "X_train.to_csv(\"/home/miyoun/jupyter_sangwon.joo/dacon/KoBERT/dacon_ext_summary/data/dacon_train_order_weight_adj.txt\", sep=\"\\t\", header=None, index=False)\n",
    "X_test.to_csv(\"/home/miyoun/jupyter_sangwon.joo/dacon/KoBERT/dacon_ext_summary/data/dacon_test_order_weight_adj.txt\", sep=\"\\t\", header=None, index=False)"
   ]
  },
  {
   "cell_type": "markdown",
   "metadata": {},
   "source": [
    "## data for submission"
   ]
  },
  {
   "cell_type": "code",
   "execution_count": 28,
   "metadata": {},
   "outputs": [],
   "source": [
    "fname = \"./dacon_ext_summary/data/extractive_test_v2.jsonl\"\n",
    "data = get_data(fname, False)"
   ]
  },
  {
   "cell_type": "code",
   "execution_count": 29,
   "metadata": {},
   "outputs": [
    {
     "data": {
      "text/plain": [
       "{'media': '대구일보',\n",
       " 'article_original': ['공군 제11전투비행단(이하 11전비)이 9월 한 달동안 모두 7차례 걸쳐 야간 비행 훈련을 실시한다.',\n",
       "  '사진은 F-15 전투기 모습.',\n",
       "  '공군 제11전투비행단(이하 11전비)이 9월 한 달동안 모두 7차례 걸쳐 야간 비행 훈련을 실시한다.',\n",
       "  '사진은 F-15 전투기 모습.',\n",
       "  '공군 제11전투비행단(이하 11전비)이 9월 한 달동안 모두 7차례 걸쳐 야간 비행 훈련을 실시한다.',\n",
       "  '27일 11전비에 따르면 다음달 야간 비행 훈련은 1주차(2~6일) 2차례, 2주차(9~13일) 3차례, 4주차(23~27일) 2차례 등 모두 7차례 걸쳐 진행된다.',\n",
       "  '비행 훈련 시간은 일몰 1시간 후부터 오후 10시 사이다.',\n",
       "  '야간 비행 훈련은 매월 6~8회 실시되고 있는 상태다.',\n",
       "  '11전비는 이달부터 대구 지자체와 소방서, 경찰청 등 주요 관공서에 야간 비행 훈련 일정을 매월 마지막 주에 공지하고 있다.',\n",
       "  '지난 26일 대구시와 각 기초단체에 ‘야간비행훈련 일정 및 소음 공지 요청’ 공문을 보내고 훈련 소식을 알렸다.',\n",
       "  '대구시와 일선 구·군청은 지역 행정복지센터를 통해 공문서를 배포하는 등 지역 아파트 관리사무실 및 지역민에게 공지할 예정이다.',\n",
       "  '또 문자서비스를 신청한 시민에게는 야간 비행 시 문자로 사전 공지하는 등 소음으로 인한 피해 최소화에 주력하고 있다.',\n",
       "  '현재 11전비는 훈련 시 기존 항공기 상승 각보다 높은 고도로 전투기를 운용해 소음 피해를 줄이고 있다.',\n",
       "  '기존 F-15K 전투기 이륙 시 15도 각도로 상승하던 방식에서 25도 각도로 변경했다.',\n",
       "  '현재 기지 인근에서 듣던 비행 소음은 10데시벨(dB) 이상 감소한 상태다.',\n",
       "  '11전비 관계자는 “전화나 국민신문고 등을 통해 접수된 소음 민원은 부대 민원실에서 직접 응대해 처리하고 있다”며 “훈련시간에 다수 항공기 이·착륙으로 비행 소음이 예상되는 만큼 지역민의 협조를 부탁한다”고 밝혔다.',\n",
       "  '한편 긴급출동과 기상급변 등 불가피한 사정으로 인해 야간 비행 일정은 변경될 수도 있다.'],\n",
       " 'news_len': 17}"
      ]
     },
     "execution_count": 29,
     "metadata": {},
     "output_type": "execute_result"
    }
   ],
   "source": [
    "data[\"715512482\"]"
   ]
  },
  {
   "cell_type": "code",
   "execution_count": 14,
   "metadata": {},
   "outputs": [],
   "source": [
    "data_dict={}\n",
    "\n",
    "for item in data.items():\n",
    "    \n",
    "    for idx_, cont in enumerate(item[1][\"article_original\"]):\n",
    "\n",
    "        data_id =  str(item[0]) + str(idx_).zfill(3)\n",
    "        \n",
    "        data_dict[data_id]={\"document\" :cont,\n",
    "                           \"label\" : data_id,\n",
    "                           \"order_weight\":int((1-idx_/item[1][\"news_len\"])*100)}"
   ]
  },
  {
   "cell_type": "code",
   "execution_count": 15,
   "metadata": {},
   "outputs": [],
   "source": [
    "total_data = pd.DataFrame(data_dict)\n",
    "total_data = total_data.transpose()\n",
    "total_data = total_data.reset_index()\n",
    "total_data = total_data.rename(columns={\"index\" :\"id\"})"
   ]
  },
  {
   "cell_type": "code",
   "execution_count": 20,
   "metadata": {},
   "outputs": [
    {
     "data": {
      "text/html": [
       "<div>\n",
       "<style scoped>\n",
       "    .dataframe tbody tr th:only-of-type {\n",
       "        vertical-align: middle;\n",
       "    }\n",
       "\n",
       "    .dataframe tbody tr th {\n",
       "        vertical-align: top;\n",
       "    }\n",
       "\n",
       "    .dataframe thead th {\n",
       "        text-align: right;\n",
       "    }\n",
       "</style>\n",
       "<table border=\"1\" class=\"dataframe\">\n",
       "  <thead>\n",
       "    <tr style=\"text-align: right;\">\n",
       "      <th></th>\n",
       "      <th>id</th>\n",
       "      <th>document</th>\n",
       "      <th>label</th>\n",
       "      <th>order_weight</th>\n",
       "    </tr>\n",
       "  </thead>\n",
       "  <tbody>\n",
       "    <tr>\n",
       "      <td>0</td>\n",
       "      <td>500733466000</td>\n",
       "      <td>▲ 석문간척지 임차법인협의회가 한국농어촌공사 당진지사 앞에 공공비축벼 320t을 쌓...</td>\n",
       "      <td>500733466000</td>\n",
       "      <td>100</td>\n",
       "    </tr>\n",
       "    <tr>\n",
       "      <td>1</td>\n",
       "      <td>500733466001</td>\n",
       "      <td>석문간척지 임차법인협의회(이하 간척지협의회)가 농림축산식품부의 부당한 간척지 임대료...</td>\n",
       "      <td>500733466001</td>\n",
       "      <td>88</td>\n",
       "    </tr>\n",
       "    <tr>\n",
       "      <td>2</td>\n",
       "      <td>500733466002</td>\n",
       "      <td>43개 영농조합법인이 소속된 간척지협의회는 이번 벼 야적 시위를 통해 현재 1kg당...</td>\n",
       "      <td>500733466002</td>\n",
       "      <td>77</td>\n",
       "    </tr>\n",
       "    <tr>\n",
       "      <td>3</td>\n",
       "      <td>500733466003</td>\n",
       "      <td>이들은 지난 12월 7일 농림축산식품부에 탄원서를 제출했지만 “임대료 인하는 올해 ...</td>\n",
       "      <td>500733466003</td>\n",
       "      <td>66</td>\n",
       "    </tr>\n",
       "    <tr>\n",
       "      <td>4</td>\n",
       "      <td>500733466004</td>\n",
       "      <td>게다가 임차법인들의 계약기간이 올해 만료되기 때문에 임대료를 인하해도 지난 2년 동...</td>\n",
       "      <td>500733466004</td>\n",
       "      <td>55</td>\n",
       "    </tr>\n",
       "  </tbody>\n",
       "</table>\n",
       "</div>"
      ],
      "text/plain": [
       "             id                                           document  \\\n",
       "0  500733466000  ▲ 석문간척지 임차법인협의회가 한국농어촌공사 당진지사 앞에 공공비축벼 320t을 쌓...   \n",
       "1  500733466001  석문간척지 임차법인협의회(이하 간척지협의회)가 농림축산식품부의 부당한 간척지 임대료...   \n",
       "2  500733466002  43개 영농조합법인이 소속된 간척지협의회는 이번 벼 야적 시위를 통해 현재 1kg당...   \n",
       "3  500733466003  이들은 지난 12월 7일 농림축산식품부에 탄원서를 제출했지만 “임대료 인하는 올해 ...   \n",
       "4  500733466004  게다가 임차법인들의 계약기간이 올해 만료되기 때문에 임대료를 인하해도 지난 2년 동...   \n",
       "\n",
       "          label order_weight  \n",
       "0  500733466000          100  \n",
       "1  500733466001           88  \n",
       "2  500733466002           77  \n",
       "3  500733466003           66  \n",
       "4  500733466004           55  "
      ]
     },
     "execution_count": 20,
     "metadata": {},
     "output_type": "execute_result"
    }
   ],
   "source": [
    "total_data.head()"
   ]
  },
  {
   "cell_type": "code",
   "execution_count": 25,
   "metadata": {},
   "outputs": [
    {
     "data": {
      "text/html": [
       "<div>\n",
       "<style scoped>\n",
       "    .dataframe tbody tr th:only-of-type {\n",
       "        vertical-align: middle;\n",
       "    }\n",
       "\n",
       "    .dataframe tbody tr th {\n",
       "        vertical-align: top;\n",
       "    }\n",
       "\n",
       "    .dataframe thead th {\n",
       "        text-align: right;\n",
       "    }\n",
       "</style>\n",
       "<table border=\"1\" class=\"dataframe\">\n",
       "  <thead>\n",
       "    <tr style=\"text-align: right;\">\n",
       "      <th></th>\n",
       "      <th>id</th>\n",
       "      <th>document</th>\n",
       "      <th>label</th>\n",
       "      <th>order_weight</th>\n",
       "    </tr>\n",
       "  </thead>\n",
       "  <tbody>\n",
       "    <tr>\n",
       "      <td>103315</td>\n",
       "      <td>715512482002</td>\n",
       "      <td>공군 제11전투비행단(이하 11전비)이 9월 한 달동안 모두 7차례 걸쳐 야간 비행...</td>\n",
       "      <td>715512482002</td>\n",
       "      <td>88</td>\n",
       "    </tr>\n",
       "  </tbody>\n",
       "</table>\n",
       "</div>"
      ],
      "text/plain": [
       "                  id                                           document  \\\n",
       "103315  715512482002  공군 제11전투비행단(이하 11전비)이 9월 한 달동안 모두 7차례 걸쳐 야간 비행...   \n",
       "\n",
       "               label order_weight  \n",
       "103315  715512482002           88  "
      ]
     },
     "execution_count": 25,
     "metadata": {},
     "output_type": "execute_result"
    }
   ],
   "source": [
    "total_data[total_data[\"label\"]==\"715512482002\"]"
   ]
  },
  {
   "cell_type": "code",
   "execution_count": 11,
   "metadata": {},
   "outputs": [],
   "source": [
    "total_data\n",
    "total_data.to_csv(\"/home/miyoun/jupyter_sangwon.joo/dacon/KoBERT/dacon_ext_summary/data/dacon_submission_order_adj.txt\", sep=\"\\t\", header=None, index=False)"
   ]
  },
  {
   "cell_type": "code",
   "execution_count": 70,
   "metadata": {},
   "outputs": [
    {
     "data": {
      "text/plain": [
       "113485"
      ]
     },
     "execution_count": 70,
     "metadata": {},
     "output_type": "execute_result"
    }
   ],
   "source": [
    "len(X_test)"
   ]
  },
  {
   "cell_type": "code",
   "execution_count": 78,
   "metadata": {},
   "outputs": [],
   "source": [
    "total_data[\"sent_num\"] = total_data[\"label\"].map(lambda x: x[:-3])"
   ]
  },
  {
   "cell_type": "code",
   "execution_count": null,
   "metadata": {},
   "outputs": [],
   "source": []
  },
  {
   "cell_type": "code",
   "execution_count": 80,
   "metadata": {},
   "outputs": [],
   "source": [
    "total_data[\"score\"] = range(0, len(total_data))"
   ]
  },
  {
   "cell_type": "code",
   "execution_count": 89,
   "metadata": {},
   "outputs": [],
   "source": [
    "total_data[\"rank\"] = total_data.groupby(\"sent_num\")[\"score\"].rank(method=\"min\", ascending=True)\n",
    "total_data[\"imp_sentence\"] = total_data[\"rank\"].map(lambda x: 1 if x <=3 else 0)"
   ]
  },
  {
   "cell_type": "code",
   "execution_count": 98,
   "metadata": {},
   "outputs": [],
   "source": [
    "sent_list = set(list(total_data[\"sent_num\"]))"
   ]
  },
  {
   "cell_type": "code",
   "execution_count": null,
   "metadata": {},
   "outputs": [],
   "source": []
  },
  {
   "cell_type": "code",
   "execution_count": 123,
   "metadata": {},
   "outputs": [
    {
     "name": "stdout",
     "output_type": "stream",
     "text": [
      "▲ 석문간척지 임차법인협의회가 한국농어촌공사 당진지사 앞에 공공비축벼 320t을 쌓아두고 시위를 벌이고 있다.\n",
      "석문간척지 임차법인협의회(이하 간척지협의회)가 농림축산식품부의 부당한 간척지 임대료 책정에 반발하며 지난달 30일 한국농어촌공사 당진지사 앞에 공공비축벼 320t을 쌓고 시위를 벌였다.\n",
      "43개 영농조합법인이 소속된 간척지협의회는 이번 벼 야적 시위를 통해 현재 1kg당 2100원으로 책정된 임대료를 현재 쌀 판매가격인 1300원대로 인하할 것을 요구하고 있다.\n"
     ]
    },
    {
     "name": "stderr",
     "output_type": "stream",
     "text": [
      "/home/miyoun/anaconda3/lib/python3.7/site-packages/ipykernel_launcher.py:6: FutureWarning: `item` has been deprecated and will be removed in a future version\n",
      "  \n"
     ]
    }
   ],
   "source": [
    "result_dict={}\n",
    "\n",
    "for sent in sent_list:\n",
    "    tmp = total_data[total_data[\"sent_num\"]==\"500733466\"]\n",
    "    \n",
    "    answer = tmp[tmp[\"rank\"]==1][\"document\"].item() + \"\\n\" + tmp[tmp[\"rank\"]==2][\"document\"].item() + \"\\n\" + tmp[tmp[\"rank\"]==3][\"document\"].item()\n",
    "    print(answer)\n",
    "    \n",
    "    result_dict[sent] = answer\n",
    "    "
   ]
  },
  {
   "cell_type": "code",
   "execution_count": 124,
   "metadata": {},
   "outputs": [
    {
     "data": {
      "text/plain": [
       "{'678547366': '▲ 석문간척지 임차법인협의회가 한국농어촌공사 당진지사 앞에 공공비축벼 320t을 쌓아두고 시위를 벌이고 있다.\\n석문간척지 임차법인협의회(이하 간척지협의회)가 농림축산식품부의 부당한 간척지 임대료 책정에 반발하며 지난달 30일 한국농어촌공사 당진지사 앞에 공공비축벼 320t을 쌓고 시위를 벌였다.\\n43개 영농조합법인이 소속된 간척지협의회는 이번 벼 야적 시위를 통해 현재 1kg당 2100원으로 책정된 임대료를 현재 쌀 판매가격인 1300원대로 인하할 것을 요구하고 있다.'}"
      ]
     },
     "execution_count": 124,
     "metadata": {},
     "output_type": "execute_result"
    }
   ],
   "source": [
    "result_dict"
   ]
  },
  {
   "cell_type": "code",
   "execution_count": 127,
   "metadata": {},
   "outputs": [
    {
     "name": "stdout",
     "output_type": "stream",
     "text": [
      "▲ 석문간척지 임차법인협의회가 한국농어촌공사 당진지사 앞에 공공비축벼 320t을 쌓아두고 시위를 벌이고 있다.\n",
      "석문간척지 임차법인협의회(이하 간척지협의회)가 농림축산식품부의 부당한 간척지 임대료 책정에 반발하며 지난달 30일 한국농어촌공사 당진지사 앞에 공공비축벼 320t을 쌓고 시위를 벌였다.\n",
      "43개 영농조합법인이 소속된 간척지협의회는 이번 벼 야적 시위를 통해 현재 1kg당 2100원으로 책정된 임대료를 현재 쌀 판매가격인 1300원대로 인하할 것을 요구하고 있다.\n"
     ]
    }
   ],
   "source": [
    "result_dict={}\n",
    "\n",
    "for sent in sent_list:\n",
    "    tmp = total_data[total_data[\"sent_num\"]==\"500733466\"]\n",
    "    \n",
    "    print(\"\\n\".join(list(tmp[tmp[\"imp_sentence\"]==1][\"document\"])))\n",
    "    \n",
    "    result_dict[sent] = answer\n",
    "    break"
   ]
  },
  {
   "cell_type": "code",
   "execution_count": null,
   "metadata": {},
   "outputs": [],
   "source": [
    "list(tmp[tmp[\"imp_sentence\"]==1][\"document\"]).join(\"\\n\")"
   ]
  }
 ],
 "metadata": {
  "kernelspec": {
   "display_name": "Python 3",
   "language": "python",
   "name": "python3"
  },
  "language_info": {
   "codemirror_mode": {
    "name": "ipython",
    "version": 3
   },
   "file_extension": ".py",
   "mimetype": "text/x-python",
   "name": "python",
   "nbconvert_exporter": "python",
   "pygments_lexer": "ipython3",
   "version": "3.8.5"
  }
 },
 "nbformat": 4,
 "nbformat_minor": 4
}
