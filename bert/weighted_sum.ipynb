{
 "cells": [
  {
   "cell_type": "code",
   "execution_count": 1,
   "metadata": {},
   "outputs": [],
   "source": [
    "import pandas as pd\n",
    "from collections import Counter"
   ]
  },
  {
   "cell_type": "code",
   "execution_count": 2,
   "metadata": {},
   "outputs": [],
   "source": [
    "df = pd.read_csv(\"sub_infer_data.csv\")"
   ]
  },
  {
   "cell_type": "code",
   "execution_count": 3,
   "metadata": {},
   "outputs": [],
   "source": [
    "count_dict = dict(Counter(df[\"sent_num\"]))"
   ]
  },
  {
   "cell_type": "code",
   "execution_count": 4,
   "metadata": {},
   "outputs": [],
   "source": [
    "df = df.rename(columns={\"0\":\"num\", \"1\":\"script\"})"
   ]
  },
  {
   "cell_type": "code",
   "execution_count": 5,
   "metadata": {},
   "outputs": [],
   "source": [
    "df[\"ratio\"] = df[\"num\"].map(lambda x: 1-(x%1000)/count_dict[x//1000])"
   ]
  },
  {
   "cell_type": "code",
   "execution_count": 10,
   "metadata": {},
   "outputs": [],
   "source": [
    "alpha = 0.95\n",
    "df[\"new_score\"] = df.apply(lambda x: (1-alpha)*x[\"score\"] + alpha*x[\"ratio\"], axis=1)\n",
    "df[\"rank_{}\".format(alpha)] = df.groupby(\"sent_num\")[\"new_score\"].rank(method=\"min\", ascending=False)"
   ]
  },
  {
   "cell_type": "code",
   "execution_count": 11,
   "metadata": {},
   "outputs": [
    {
     "data": {
      "text/html": [
       "<div>\n",
       "<style scoped>\n",
       "    .dataframe tbody tr th:only-of-type {\n",
       "        vertical-align: middle;\n",
       "    }\n",
       "\n",
       "    .dataframe tbody tr th {\n",
       "        vertical-align: top;\n",
       "    }\n",
       "\n",
       "    .dataframe thead th {\n",
       "        text-align: right;\n",
       "    }\n",
       "</style>\n",
       "<table border=\"1\" class=\"dataframe\">\n",
       "  <thead>\n",
       "    <tr style=\"text-align: right;\">\n",
       "      <th></th>\n",
       "      <th>num</th>\n",
       "      <th>script</th>\n",
       "      <th>2</th>\n",
       "      <th>score</th>\n",
       "      <th>sent_num</th>\n",
       "      <th>rank</th>\n",
       "      <th>ratio</th>\n",
       "      <th>new_score</th>\n",
       "      <th>rank_0.9</th>\n",
       "      <th>rank_0.95</th>\n",
       "    </tr>\n",
       "  </thead>\n",
       "  <tbody>\n",
       "    <tr>\n",
       "      <td>0</td>\n",
       "      <td>500733466000</td>\n",
       "      <td>▲ 석문간척지 임차법인협의회가 한국농어촌공사 당진지사 앞에 공공비축벼 320t을 쌓...</td>\n",
       "      <td>500733466000</td>\n",
       "      <td>-2.124493</td>\n",
       "      <td>500733466</td>\n",
       "      <td>9.0</td>\n",
       "      <td>1.000000</td>\n",
       "      <td>0.843775</td>\n",
       "      <td>3.0</td>\n",
       "      <td>2.0</td>\n",
       "    </tr>\n",
       "    <tr>\n",
       "      <td>1</td>\n",
       "      <td>500733466001</td>\n",
       "      <td>석문간척지 임차법인협의회(이하 간척지협의회)가 농림축산식품부의 부당한 간척지 임대료...</td>\n",
       "      <td>500733466001</td>\n",
       "      <td>0.780135</td>\n",
       "      <td>500733466</td>\n",
       "      <td>1.0</td>\n",
       "      <td>0.888889</td>\n",
       "      <td>0.883451</td>\n",
       "      <td>1.0</td>\n",
       "      <td>1.0</td>\n",
       "    </tr>\n",
       "    <tr>\n",
       "      <td>2</td>\n",
       "      <td>500733466002</td>\n",
       "      <td>43개 영농조합법인이 소속된 간척지협의회는 이번 벼 야적 시위를 통해 현재 1kg당...</td>\n",
       "      <td>500733466002</td>\n",
       "      <td>0.285188</td>\n",
       "      <td>500733466</td>\n",
       "      <td>2.0</td>\n",
       "      <td>0.777778</td>\n",
       "      <td>0.753148</td>\n",
       "      <td>2.0</td>\n",
       "      <td>3.0</td>\n",
       "    </tr>\n",
       "    <tr>\n",
       "      <td>3</td>\n",
       "      <td>500733466003</td>\n",
       "      <td>이들은 지난 12월 7일 농림축산식품부에 탄원서를 제출했지만 “임대료 인하는 올해 ...</td>\n",
       "      <td>500733466003</td>\n",
       "      <td>-1.240078</td>\n",
       "      <td>500733466</td>\n",
       "      <td>6.0</td>\n",
       "      <td>0.666667</td>\n",
       "      <td>0.571329</td>\n",
       "      <td>4.0</td>\n",
       "      <td>4.0</td>\n",
       "    </tr>\n",
       "    <tr>\n",
       "      <td>4</td>\n",
       "      <td>500733466004</td>\n",
       "      <td>게다가 임차법인들의 계약기간이 올해 만료되기 때문에 임대료를 인하해도 지난 2년 동...</td>\n",
       "      <td>500733466004</td>\n",
       "      <td>-1.468759</td>\n",
       "      <td>500733466</td>\n",
       "      <td>8.0</td>\n",
       "      <td>0.555556</td>\n",
       "      <td>0.454340</td>\n",
       "      <td>6.0</td>\n",
       "      <td>5.0</td>\n",
       "    </tr>\n",
       "  </tbody>\n",
       "</table>\n",
       "</div>"
      ],
      "text/plain": [
       "            num                                             script  \\\n",
       "0  500733466000  ▲ 석문간척지 임차법인협의회가 한국농어촌공사 당진지사 앞에 공공비축벼 320t을 쌓...   \n",
       "1  500733466001  석문간척지 임차법인협의회(이하 간척지협의회)가 농림축산식품부의 부당한 간척지 임대료...   \n",
       "2  500733466002  43개 영농조합법인이 소속된 간척지협의회는 이번 벼 야적 시위를 통해 현재 1kg당...   \n",
       "3  500733466003  이들은 지난 12월 7일 농림축산식품부에 탄원서를 제출했지만 “임대료 인하는 올해 ...   \n",
       "4  500733466004  게다가 임차법인들의 계약기간이 올해 만료되기 때문에 임대료를 인하해도 지난 2년 동...   \n",
       "\n",
       "              2     score   sent_num  rank     ratio  new_score  rank_0.9  \\\n",
       "0  500733466000 -2.124493  500733466   9.0  1.000000   0.843775       3.0   \n",
       "1  500733466001  0.780135  500733466   1.0  0.888889   0.883451       1.0   \n",
       "2  500733466002  0.285188  500733466   2.0  0.777778   0.753148       2.0   \n",
       "3  500733466003 -1.240078  500733466   6.0  0.666667   0.571329       4.0   \n",
       "4  500733466004 -1.468759  500733466   8.0  0.555556   0.454340       6.0   \n",
       "\n",
       "   rank_0.95  \n",
       "0        2.0  \n",
       "1        1.0  \n",
       "2        3.0  \n",
       "3        4.0  \n",
       "4        5.0  "
      ]
     },
     "execution_count": 11,
     "metadata": {},
     "output_type": "execute_result"
    }
   ],
   "source": [
    "df.head()"
   ]
  },
  {
   "cell_type": "code",
   "execution_count": 12,
   "metadata": {},
   "outputs": [
    {
     "name": "stderr",
     "output_type": "stream",
     "text": [
      "/home/miyoun/anaconda3/lib/python3.7/site-packages/ipykernel_launcher.py:7: FutureWarning: `item` has been deprecated and will be removed in a future version\n",
      "  import sys\n"
     ]
    }
   ],
   "source": [
    "sent_list = list(set(df[\"sent_num\"]))\n",
    "result_dict = {}\n",
    "col = \"rank_{}\".format(alpha)\n",
    "\n",
    "for sent in sent_list:\n",
    "    tmp = df[df[\"sent_num\"]==sent]\n",
    "    answer = tmp[tmp[col]==1][\"script\"].item() + \"\\n\" + tmp[tmp[col]==2][\"script\"].item() + \"\\n\" + tmp[tmp[col]==3][\"script\"].item()\n",
    "    \n",
    "    result_dict[sent] = answer"
   ]
  },
  {
   "cell_type": "code",
   "execution_count": 13,
   "metadata": {},
   "outputs": [],
   "source": [
    "sub_fi = pd.read_csv(\"/home/miyoun/jupyter_sangwon.joo/dacon/KoBERT/dacon_ext_summary/data/extractive_sample_submission_v2.csv\")\n",
    "sub_fi[\"summary\"] = sub_fi[\"id\"].map(lambda x: result_dict[int(x)])\n",
    "sub_fi.to_csv(\"/data/sangwon.joo/order_weight_{}.csv\".format(alpha), index=False)"
   ]
  },
  {
   "cell_type": "code",
   "execution_count": null,
   "metadata": {},
   "outputs": [],
   "source": []
  }
 ],
 "metadata": {
  "kernelspec": {
   "display_name": "Python 3",
   "language": "python",
   "name": "python3"
  },
  "language_info": {
   "codemirror_mode": {
    "name": "ipython",
    "version": 3
   },
   "file_extension": ".py",
   "mimetype": "text/x-python",
   "name": "python",
   "nbconvert_exporter": "python",
   "pygments_lexer": "ipython3",
   "version": "3.7.4"
  }
 },
 "nbformat": 4,
 "nbformat_minor": 4
}
