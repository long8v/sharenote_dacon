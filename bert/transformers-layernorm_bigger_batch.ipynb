{
 "cells": [
  {
   "cell_type": "code",
   "execution_count": 1,
   "metadata": {},
   "outputs": [],
   "source": [
    "import pickle\n",
    "import json\n",
    "import torch\n",
    "from glob import glob"
   ]
  },
  {
   "cell_type": "markdown",
   "metadata": {},
   "source": [
    "# data loading"
   ]
  },
  {
   "cell_type": "markdown",
   "metadata": {},
   "source": [
    "## BERT embedding loading"
   ]
  },
  {
   "cell_type": "code",
   "execution_count": 2,
   "metadata": {},
   "outputs": [],
   "source": [
    "pt_files = sorted(glob('../bert_file/*.pt'))\n",
    "pt_files_index = [int(pt.split('_')[-1].split('.')[0]) for pt in pt_files]"
   ]
  },
  {
   "cell_type": "code",
   "execution_count": 3,
   "metadata": {},
   "outputs": [
    {
     "name": "stdout",
     "output_type": "stream",
     "text": [
      "../bert_file/doc_11926.pt\n",
      "../bert_file/doc_17742.pt\n"
     ]
    }
   ],
   "source": [
    "for pt in pt_files:\n",
    "    try:\n",
    "        torch.load(pt)\n",
    "    except:\n",
    "        print(pt)"
   ]
  },
  {
   "cell_type": "code",
   "execution_count": 4,
   "metadata": {},
   "outputs": [],
   "source": [
    "tensors = [torch.load(pt) for pt in pt_files\n",
    "          if pt not in ['../bert_file/doc_11926.pt', '../bert_file/doc_17742.pt']]"
   ]
  },
  {
   "cell_type": "markdown",
   "metadata": {},
   "source": [
    "## Label loading "
   ]
  },
  {
   "cell_type": "code",
   "execution_count": 5,
   "metadata": {},
   "outputs": [],
   "source": [
    "with open('../file/train.jsonl') as f:\n",
    "    data = [json.loads(line) for line in f]"
   ]
  },
  {
   "cell_type": "code",
   "execution_count": 6,
   "metadata": {},
   "outputs": [],
   "source": [
    "data_sample = [data[index] for index in pt_files_index]"
   ]
  },
  {
   "cell_type": "code",
   "execution_count": 7,
   "metadata": {},
   "outputs": [],
   "source": [
    "label_sample = [torch.Tensor([1 if _ in data['extractive'] else 0 \n",
    "                            for _ in range(len(data['article_original']))]) \n",
    "                for idx, data in enumerate(data_sample)\n",
    "               if idx not in [11926, 17742]]"
   ]
  },
  {
   "cell_type": "code",
   "execution_count": 8,
   "metadata": {},
   "outputs": [
    {
     "data": {
      "text/plain": [
       "19105"
      ]
     },
     "execution_count": 8,
     "metadata": {},
     "output_type": "execute_result"
    }
   ],
   "source": [
    "len(label_sample)"
   ]
  },
  {
   "cell_type": "markdown",
   "metadata": {},
   "source": [
    "## train-valid split "
   ]
  },
  {
   "cell_type": "code",
   "execution_count": 9,
   "metadata": {},
   "outputs": [],
   "source": [
    "from sklearn.model_selection import train_test_split"
   ]
  },
  {
   "cell_type": "code",
   "execution_count": 10,
   "metadata": {},
   "outputs": [],
   "source": [
    "train_data, test_data, train_y, test_y = train_test_split(tensors, label_sample, test_size=0.1)"
   ]
  },
  {
   "cell_type": "code",
   "execution_count": 11,
   "metadata": {},
   "outputs": [
    {
     "data": {
      "text/plain": [
       "(17194, 17194)"
      ]
     },
     "execution_count": 11,
     "metadata": {},
     "output_type": "execute_result"
    }
   ],
   "source": [
    "len(train_data), len(train_y)"
   ]
  },
  {
   "cell_type": "markdown",
   "metadata": {},
   "source": [
    "## Dataset "
   ]
  },
  {
   "cell_type": "code",
   "execution_count": 12,
   "metadata": {},
   "outputs": [],
   "source": [
    "from torch.utils.data import Dataset, DataLoader\n",
    "from torch.nn.utils.rnn import pad_sequence"
   ]
  },
  {
   "cell_type": "code",
   "execution_count": 13,
   "metadata": {},
   "outputs": [],
   "source": [
    "class transformerDataset(Dataset):\n",
    "    def __init__(self, data_x, data_y, transform_x=None, transform_y=None):\n",
    "        self.data_x = data_x\n",
    "        self.data_y = data_y\n",
    "        \n",
    "    def __len__(self):\n",
    "        return len(self.data_x)\n",
    "    \n",
    "    def __getitem__(self, idx):\n",
    "        sample_x = self.data_x[idx]\n",
    "        sample_y = self.data_y[idx]\n",
    "        return sample_x, sample_y"
   ]
  },
  {
   "cell_type": "code",
   "execution_count": 14,
   "metadata": {},
   "outputs": [],
   "source": [
    "def pad_collate(batch):\n",
    "    (xx, yy) = zip(*batch)\n",
    "    xx_pad = pad_sequence(xx, batch_first=True, padding_value=0)\n",
    "    yy_pad = pad_sequence(yy, batch_first=True, padding_value=0)\n",
    "    return xx_pad, yy_pad"
   ]
  },
  {
   "cell_type": "code",
   "execution_count": 15,
   "metadata": {},
   "outputs": [],
   "source": [
    "# tensors = collate_fn_padd(tensors)"
   ]
  },
  {
   "cell_type": "code",
   "execution_count": 16,
   "metadata": {},
   "outputs": [],
   "source": [
    "# tensors.shape"
   ]
  },
  {
   "cell_type": "code",
   "execution_count": 17,
   "metadata": {},
   "outputs": [],
   "source": [
    "# label_sample"
   ]
  },
  {
   "cell_type": "code",
   "execution_count": 18,
   "metadata": {},
   "outputs": [],
   "source": [
    "bs = 128"
   ]
  },
  {
   "cell_type": "code",
   "execution_count": 19,
   "metadata": {},
   "outputs": [],
   "source": [
    "ds = transformerDataset(train_data, train_y)\n",
    "dl = DataLoader(ds, batch_size=bs, collate_fn=pad_collate, shuffle=True, drop_last=True)"
   ]
  },
  {
   "cell_type": "code",
   "execution_count": 20,
   "metadata": {},
   "outputs": [],
   "source": [
    "for d in dl:\n",
    "    if d[0].shape[0] == bs:\n",
    "        pass\n",
    "    else:\n",
    "        print(d[0].shape)"
   ]
  },
  {
   "cell_type": "code",
   "execution_count": 21,
   "metadata": {},
   "outputs": [],
   "source": [
    "ds_test = transformerDataset(test_data, test_y)\n",
    "dl_test = DataLoader(ds, batch_size=bs, collate_fn=pad_collate, shuffle=True, drop_last=True)"
   ]
  },
  {
   "cell_type": "markdown",
   "metadata": {},
   "source": [
    "## model "
   ]
  },
  {
   "cell_type": "code",
   "execution_count": 22,
   "metadata": {},
   "outputs": [],
   "source": [
    "import math\n",
    "import torch\n",
    "import torch.nn as nn\n",
    "import torch.nn.functional as F\n",
    "from torch.nn import TransformerEncoder, TransformerEncoderLayer"
   ]
  },
  {
   "cell_type": "code",
   "execution_count": 23,
   "metadata": {},
   "outputs": [],
   "source": [
    "# data_sample"
   ]
  },
  {
   "cell_type": "code",
   "execution_count": 24,
   "metadata": {},
   "outputs": [],
   "source": [
    "# BERT_EMBEDDING_DIM = 768"
   ]
  },
  {
   "cell_type": "code",
   "execution_count": 25,
   "metadata": {},
   "outputs": [],
   "source": [
    "# encoder_layer = TransformerEncoderLayer(d_model=BERT_EMBEDDING_DIM, nhead=2, dim_feedforward=128, dropout=0.5)\n",
    "# transformer_encoder = TransformerEncoder(encoder_layer, num_layers=1)"
   ]
  },
  {
   "cell_type": "code",
   "execution_count": 26,
   "metadata": {},
   "outputs": [],
   "source": [
    "# tensors[0].shape"
   ]
  },
  {
   "cell_type": "code",
   "execution_count": 27,
   "metadata": {},
   "outputs": [],
   "source": [
    "# linear = nn.Linear(in_features=768, out_features=1)"
   ]
  },
  {
   "cell_type": "code",
   "execution_count": 28,
   "metadata": {},
   "outputs": [],
   "source": [
    "# tensors[1].shape"
   ]
  },
  {
   "cell_type": "code",
   "execution_count": 29,
   "metadata": {},
   "outputs": [],
   "source": [
    "# tensors[0].unsqueeze(0).shape"
   ]
  },
  {
   "cell_type": "code",
   "execution_count": 30,
   "metadata": {},
   "outputs": [],
   "source": [
    "# trans_output = transformer_encoder(tensors[0].unsqueeze(0))"
   ]
  },
  {
   "cell_type": "code",
   "execution_count": 31,
   "metadata": {},
   "outputs": [],
   "source": [
    "# trans_output.shape"
   ]
  },
  {
   "cell_type": "code",
   "execution_count": 32,
   "metadata": {},
   "outputs": [],
   "source": [
    "# output = linear(trans_output)\n",
    "# sigmoid = nn.Sigmoid()\n",
    "# output = sigmoid(output)\n",
    "# output.shape"
   ]
  },
  {
   "cell_type": "code",
   "execution_count": 33,
   "metadata": {},
   "outputs": [],
   "source": [
    "# target = torch.Tensor(label_sample[0])"
   ]
  },
  {
   "cell_type": "code",
   "execution_count": 34,
   "metadata": {},
   "outputs": [],
   "source": [
    "# output.shape"
   ]
  },
  {
   "cell_type": "code",
   "execution_count": 35,
   "metadata": {},
   "outputs": [],
   "source": [
    "criterion = nn.CrossEntropyLoss()"
   ]
  },
  {
   "cell_type": "code",
   "execution_count": 36,
   "metadata": {},
   "outputs": [],
   "source": [
    "# output.shape, target.shape"
   ]
  },
  {
   "cell_type": "code",
   "execution_count": 37,
   "metadata": {},
   "outputs": [],
   "source": [
    "# criterion(output, target.view(1,-1,1))"
   ]
  },
  {
   "cell_type": "code",
   "execution_count": 38,
   "metadata": {},
   "outputs": [],
   "source": [
    "class PositionalEncoding(nn.Module):\n",
    "    # positional encoding layer 따로 정의 \n",
    "    def __init__(self, d_model, dropout=0.1, max_len=5000):\n",
    "        super(PositionalEncoding, self).__init__()\n",
    "        self.dropout = nn.Dropout(p=dropout)\n",
    "        pe = torch.zeros(max_len, d_model) # positonal encoding\n",
    "        position = torch.arange(0, max_len, dtype=torch.float).unsqueeze(1)\n",
    "        div_term = torch.exp(torch.arange(0, d_model, 2).float() * (-math.log(10000.0) / d_model))\n",
    "        pe[:, 0::2] = torch.sin(position * div_term) # 짝수는 sin 함수 적용\n",
    "        pe[:, 1::2] = torch.cos(position * div_term) # 홀수는 cos 함수 적용\n",
    "        pe = pe.unsqueeze(0).transpose(0, 1)\n",
    "        self.register_buffer('pe', pe)\n",
    "\n",
    "    def forward(self, x):\n",
    "        x = x + self.pe[:x.size(0), :]\n",
    "        return self.dropout(x)"
   ]
  },
  {
   "cell_type": "code",
   "execution_count": 39,
   "metadata": {},
   "outputs": [],
   "source": [
    "class TransformerModel(nn.Module):\n",
    "\n",
    "    def __init__(self, ninp, nhead, nhid, n_class, dropout=0.5):\n",
    "        # ntoken : number of sentence\n",
    "        # ninp : the number of expected features in the input\n",
    "        # nhead : the number of heads in multi-head attention model \n",
    "        # nhid : the dimension of the feedforward network model \n",
    "        # nlayers : the number of class\n",
    "        super(TransformerModel, self).__init__()\n",
    "        self.model_type = 'Transformer'\n",
    "        self.src_mask = None\n",
    "        self.pos_encoder = PositionalEncoding(ninp, dropout)\n",
    "        encoder_layers = TransformerEncoderLayer(ninp, nhead, nhid, dropout)\n",
    "        self.transformer_encoder = TransformerEncoder(encoder_layers, n_class)\n",
    "        self.ninp = ninp\n",
    "        self.linear = nn.Linear(in_features=ninp, out_features=n_class)\n",
    "        self.softmax = nn.LogSoftmax(dim=1)\n",
    "        self.dropout = nn.Dropout(p=0.2)\n",
    "        self.layernorm = nn.LayerNorm(ninp)\n",
    "    def init_weights(self):\n",
    "        initrange = 0.1\n",
    "        # encoder의 nn.Embedding의 레이어 초기화\n",
    "        self.encoder.weight.data.uniform_(-initrange, initrange)\n",
    "\n",
    "    def forward(self, src):\n",
    "        src = src * math.sqrt(self.ninp)\n",
    "        \n",
    "        src = self.pos_encoder(src)\n",
    "        src = self.layernorm(src)\n",
    "        output = self.transformer_encoder(src)\n",
    "        output = self.linear(output)\n",
    "        output = self.softmax(output)\n",
    "        output = self.dropout(output)\n",
    "        return output"
   ]
  },
  {
   "cell_type": "code",
   "execution_count": 40,
   "metadata": {},
   "outputs": [],
   "source": [
    "criterion = nn.BCEWithLogitsLoss()\n",
    "device = 'cuda'\n",
    "model = TransformerModel(ninp=768, nhead=64, nhid=4096, n_class=1).to(device)\n",
    "lr = 0.005\n",
    "optimizer = torch.optim.Adam(model.parameters(), lr=lr)"
   ]
  },
  {
   "cell_type": "code",
   "execution_count": 41,
   "metadata": {},
   "outputs": [],
   "source": [
    "def get_test_accuracy(model):\n",
    "    common = 0\n",
    "    all_common = 0\n",
    "    for idx, test_batch in enumerate(dl_test):\n",
    "        tensor = test_batch[0].to(device)\n",
    "        label = test_batch[1].to(device)\n",
    "        label = label.view(bs, -1, 1)\n",
    "        output = model(tensor)\n",
    "        argtopk = output.topk(3, axis=1)[1]\n",
    "        output = label.topk(3, axis=1)[1]\n",
    "        output = output.view(bs, -1)\n",
    "        argtopk = argtopk.view(bs, -1)\n",
    "        for opt, lbl in zip(output, argtopk):\n",
    "            common += len(set(opt.tolist()).intersection(lbl.tolist()))\n",
    "            all_common += 3\n",
    "    return common / all_common"
   ]
  },
  {
   "cell_type": "code",
   "execution_count": 42,
   "metadata": {},
   "outputs": [
    {
     "data": {
      "text/plain": [
       "0.18357431592039802"
      ]
     },
     "execution_count": 42,
     "metadata": {},
     "output_type": "execute_result"
    }
   ],
   "source": [
    "get_test_accuracy(model)"
   ]
  },
  {
   "cell_type": "code",
   "execution_count": 43,
   "metadata": {},
   "outputs": [],
   "source": [
    "# max(accuracy_list)"
   ]
  },
  {
   "cell_type": "code",
   "execution_count": null,
   "metadata": {},
   "outputs": [
    {
     "name": "stdout",
     "output_type": "stream",
     "text": [
      "test accuray : 0.4587997512437811\n",
      "test accuray : 0.46204524253731344\n",
      "test accuray : 0.4617342972636816\n",
      "test accuray : 0.4592467350746269\n",
      "test accuray : 0.46148165422885573\n",
      "test accuray : 0.4623173196517413\n",
      "test accuray : 0.4662235696517413\n",
      "test accuray : 0.46828358208955223\n",
      "test accuray : 0.4636582711442786\n",
      "test accuray : 0.46122901119402987\n",
      "test accuray : 0.4621035447761194\n",
      "test accuray : 0.4634833644278607\n",
      "test accuray : 0.4599269278606965\n",
      "test accuray : 0.453125\n",
      "test accuray : 0.45621501865671643\n",
      "test accuray : 0.44313588308457713\n",
      "test accuray : 0.44505985696517414\n",
      "test accuray : 0.44461287313432835\n",
      "test accuray : 0.44659514925373134\n",
      "test accuray : 0.44793610074626866\n",
      "test accuray : 0.4471198694029851\n",
      "test accuray : 0.4499961131840796\n",
      "test accuray : 0.44964629975124376\n",
      "test accuray : 0.4475279850746269\n",
      "test accuray : 0.4505791355721393\n",
      "test accuray : 0.44795553482587064\n",
      "test accuray : 0.4490049751243781\n",
      "test accuray : 0.4525614116915423\n",
      "test accuray : 0.46027674129353235\n",
      "test accuray : 0.46068485696517414\n",
      "test accuray : 0.46120957711442784\n",
      "test accuray : 0.4658543221393035\n",
      "test accuray : 0.46453280472636815\n",
      "test accuray : 0.46647621268656714\n",
      "test accuray : 0.4739583333333333\n",
      "test accuray : 0.4743664490049751\n",
      "test accuray : 0.4779423196517413\n",
      "test accuray : 0.47939987562189057\n",
      "test accuray : 0.4775730721393035\n",
      "test accuray : 0.48287857587064675\n",
      "test accuray : 0.4845304726368159\n",
      "test accuray : 0.48289800995024873\n",
      "test accuray : 0.47891402363184077\n",
      "test accuray : 0.48390858208955223\n",
      "test accuray : 0.4767179726368159\n",
      "test accuray : 0.4829563121890547\n",
      "test accuray : 0.48153762437810943\n",
      "test accuray : 0.4808768656716418\n",
      "test accuray : 0.47704835199004975\n",
      "test accuray : 0.4742498445273632\n",
      "test accuray : 0.47082944651741293\n",
      "test accuray : 0.46729244402985076\n",
      "test accuray : 0.46997434701492535\n",
      "test accuray : 0.466826026119403\n",
      "test accuray : 0.46571828358208955\n",
      "test accuray : 0.46645677860696516\n",
      "test accuray : 0.46826414800995025\n",
      "test accuray : 0.4665345149253731\n",
      "test accuray : 0.4665539490049751\n",
      "test accuray : 0.4665539490049751\n",
      "test accuray : 0.46480488184079605\n",
      "test accuray : 0.46457167288557216\n",
      "test accuray : 0.4649992226368159\n",
      "test accuray : 0.466806592039801\n",
      "test accuray : 0.4673507462686567\n",
      "test accuray : 0.4683613184079602\n",
      "test accuray : 0.4686333955223881\n",
      "test accuray : 0.4731032338308458\n",
      "test accuray : 0.4720926616915423\n",
      "test accuray : 0.4722092661691542\n",
      "test accuray : 0.46927472014925375\n",
      "test accuray : 0.47193718905472637\n",
      "test accuray : 0.472714552238806\n",
      "test accuray : 0.470673973880597\n",
      "test accuray : 0.47372512437810943\n",
      "test accuray : 0.47115982587064675\n",
      "test accuray : 0.4673896144278607\n",
      "test accuray : 0.462919776119403\n",
      "test accuray : 0.4610929726368159\n",
      "test accuray : 0.46577658582089554\n",
      "test accuray : 0.4677977300995025\n",
      "test accuray : 0.476581934079602\n",
      "test accuray : 0.49028296019900497\n",
      "test accuray : 0.494053171641791\n",
      "test accuray : 0.4908465485074627\n",
      "test accuray : 0.490263526119403\n",
      "test accuray : 0.49663790422885573\n",
      "test accuray : 0.49125466417910446\n",
      "test accuray : 0.49166277985074625\n",
      "test accuray : 0.4925761815920398\n",
      "test accuray : 0.49051616915422885\n",
      "test accuray : 0.4933924129353234\n",
      "test accuray : 0.49537468905472637\n",
      "test accuray : 0.49556902985074625\n",
      "test accuray : 0.4934895833333333\n",
      "test accuray : 0.49609375\n",
      "test accuray : 0.4993975435323383\n",
      "test accuray : 0.49420864427860695\n",
      "test accuray : 0.49294542910447764\n",
      "test accuray : 0.4975124378109453\n",
      "test accuray : 0.5036536069651741\n",
      "test accuray : 0.4865904850746269\n",
      "test accuray : 0.48975824004975127\n",
      "test accuray : 0.48544387437810943\n",
      "test accuray : 0.488300684079602\n",
      "test accuray : 0.48526896766169153\n",
      "test accuray : 0.4821789490049751\n",
      "test accuray : 0.48800917288557216\n",
      "test accuray : 0.48423896144278605\n",
      "test accuray : 0.48468594527363185\n",
      "test accuray : 0.4800217661691542\n",
      "test accuray : 0.4817125310945274\n",
      "test accuray : 0.48017723880597013\n",
      "test accuray : 0.47868081467661694\n",
      "test accuray : 0.4799634639303483\n",
      "test accuray : 0.47879741915422885\n",
      "test accuray : 0.4792638370646766\n",
      "test accuray : 0.48095460199004975\n",
      "test accuray : 0.4809740360696517\n",
      "test accuray : 0.47840873756218905\n",
      "test accuray : 0.4801383706467662\n",
      "test accuray : 0.47755363805970147\n",
      "test accuray : 0.48054648631840796\n",
      "test accuray : 0.48130441542288555\n",
      "test accuray : 0.48072139303482586\n",
      "test accuray : 0.48089629975124376\n"
     ]
    }
   ],
   "source": [
    "loss_list = []\n",
    "accuracy_list = []\n",
    "best_accuracy = 0.5\n",
    "for epoch in range(300):\n",
    "    i = 0 \n",
    "    for batch in dl:\n",
    "        model.train()\n",
    "        tensor = batch[0].to(device)\n",
    "        label = batch[1].to(device)\n",
    "        try:\n",
    "            label = label.view(bs, -1, 1)\n",
    "            output = model(tensor)\n",
    "            loss = criterion(output, label)\n",
    "            loss.backward()\n",
    "            optimizer.step()\n",
    "            i += 1\n",
    "            if i % 100 == 0 :\n",
    "                loss_list.append(loss)\n",
    "                model.eval()\n",
    "                accuracy = get_test_accuracy(model)\n",
    "                print('test accuray : {}'.format(accuracy))\n",
    "                accuracy_list.append(accuracy)\n",
    "                if best_accuracy < accuracy:\n",
    "                    best_model = model\n",
    "                    best_accuracy = accuracy\n",
    "        except Exception as e:\n",
    "            print(e)\n",
    "            print(tensor.shape, output.shape, label.shape)"
   ]
  },
  {
   "cell_type": "code",
   "execution_count": null,
   "metadata": {},
   "outputs": [],
   "source": [
    "import matplotlib.pyplot as plt"
   ]
  },
  {
   "cell_type": "code",
   "execution_count": 97,
   "metadata": {},
   "outputs": [
    {
     "data": {
      "text/plain": [
       "[<matplotlib.lines.Line2D at 0x7f4bc8c52b70>]"
      ]
     },
     "execution_count": 97,
     "metadata": {},
     "output_type": "execute_result"
    },
    {
     "data": {
      "image/png": "[encoded data removed]",
      "text/plain": [
       "<Figure size 432x288 with 1 Axes>"
      ]
     },
     "metadata": {
      "needs_background": "light"
     },
     "output_type": "display_data"
    }
   ],
   "source": [
    "plt.plot(loss_list)"
   ]
  },
  {
   "cell_type": "code",
   "execution_count": 98,
   "metadata": {},
   "outputs": [
    {
     "data": {
      "text/plain": [
       "[<matplotlib.lines.Line2D at 0x7f4bc56852b0>]"
      ]
     },
     "execution_count": 98,
     "metadata": {},
     "output_type": "execute_result"
    },
    {
     "data": {
      "image/png": "[encoded data removed]",
      "text/plain": [
       "<Figure size 432x288 with 1 Axes>"
      ]
     },
     "metadata": {
      "needs_background": "light"
     },
     "output_type": "display_data"
    }
   ],
   "source": [
    "plt.plot(accuracy_list)"
   ]
  },
  {
   "cell_type": "code",
   "execution_count": null,
   "metadata": {},
   "outputs": [],
   "source": [
    "import torch\n",
    "from torch import nn\n",
    "import torch.nn.functional as F\n",
    "import torch.optim as optim\n",
    "from torch.utils.data import Dataset, DataLoader\n",
    "import gluonnlp as nlp\n",
    "import numpy as np\n",
    "from tqdm import tqdm, tqdm_notebook\n",
    "from kobert.utils import get_tokenizer\n",
    "from kobert.pytorch_kobert import get_pytorch_kobert_model\n",
    "from transformers import AdamW\n",
    "from transformers.optimization import WarmupLinearSchedule\n",
    "##GPU 사용 시\n",
    "device = torch.device(\"cuda:0\")\n",
    "bertmodel, vocab = get_pytorch_kobert_model()\n",
    "dataset_train = nlp.data.TSVDataset(\"/home/sora/Desktop/mkj/tmp/dacon_train.txt\", field_indices=[1,2], num_discard_samples=1)\n",
    "dataset_test = nlp.data.TSVDataset(\"/home/sora/Desktop/mkj/tmp/dacon_test.txt\", field_indices=[1,2], num_discard_samples=1)\n",
    "tokenizer = get_tokenizer()\n",
    "tok = nlp.data.BERTSPTokenizer(tokenizer, vocab, lower=False)\n",
    "class BERTDataset(Dataset):\n",
    "    def __init__(self, dataset, sent_idx, label_idx, bert_tokenizer, max_len,\n",
    "                 pad, pair):\n",
    "        transform = nlp.data.BERTSentenceTransform(\n",
    "            bert_tokenizer, max_seq_length=max_len, pad=pad, pair=False)\n",
    "        self.sentences = [transform([i[sent_idx]]) for i in dataset]\n",
    "        self.labels = [np.int32(i[label_idx]) for i in dataset]\n",
    "    def __getitem__(self, i):\n",
    "        return (self.sentences[i] + (self.labels[i], ))\n",
    "    def __len__(self):\n",
    "        return (len(self.labels))\n",
    "## Setting parameters\n",
    "max_len = 64\n",
    "batch_size = 64\n",
    "warmup_ratio = 0.1\n",
    "num_epochs = 5\n",
    "max_grad_norm = 1\n",
    "log_interval = 200\n",
    "learning_rate = 5e-5\n",
    "data_train = BERTDataset(dataset_train, 0, 1, tok, max_len, True, False)\n",
    "data_test = BERTDataset(dataset_test, 0, 1, tok, max_len, True, False)\n",
    "train_dataloader = torch.utils.data.DataLoader(data_train, batch_size=batch_size, num_workers=5)\n",
    "test_dataloader = torch.utils.data.DataLoader(data_test, batch_size=batch_size, num_workers=5)\n",
    "dtype = torch.float\n",
    "class BERTClassifier(nn.Module):\n",
    "    def __init__(self,\n",
    "                 bert,\n",
    "                 hidden_size = 768,\n",
    "                 num_classes=2,\n",
    "                 dr_rate=None,\n",
    "                 params=None):\n",
    "        super(BERTClassifier, self).__init__()\n",
    "        self.bert = bert\n",
    "        self.dr_rate = dr_rate\n",
    "        self.num_class = num_classes\n",
    "        self.hidden_size = 128\n",
    "        self.final_lstm = nn.LSTM(input_size = hidden_size, hidden_size = self.hidden_size, num_layers=2, bidirectional=True)  # hidden_size * 2 -> *3\n",
    "        self.logits_fc = nn.Linear(self.hidden_size*2, num_classes)\n",
    "        self.dropout = nn.Dropout(self.dr_rate)\n",
    "        self.Softmax = nn.Softmax(dim=1)\n",
    "    def gen_attention_mask(self, token_ids, valid_length):\n",
    "        attention_mask = torch.zeros_like(token_ids)\n",
    "        for i, v in enumerate(valid_length):\n",
    "            attention_mask[i][:v] = 1\n",
    "        return attention_mask.float()\n",
    "    def forward(self, token_ids, valid_length, segment_ids):\n",
    "        attention_mask = self.gen_attention_mask(token_ids, valid_length)\n",
    "        all_encoder_layers, pooled = self.bert(input_ids = token_ids, token_type_ids = segment_ids.long(), attention_mask = attention_mask.float().to(token_ids.device))        # print(all_encoder_layers.shape)\n",
    "        lstm_output, states = self.final_lstm(all_encoder_layers)\n",
    "        lstm_output = lstm_output[-1]\n",
    "        output = self.logits_fc(lstm_output)\n",
    "        out = self.dropout(output)\n",
    "        return out\n",
    "model = BERTClassifier(bertmodel, dr_rate = 0.5).to(device)\n",
    "test_model = BERTClassifier(bertmodel, dr_rate = 1.0).to(device)\n",
    "# Prepare optimizer and schedule (linear warmup and decay)\n",
    "no_decay = ['bias', 'LayerNorm.weight']\n",
    "optimizer_grouped_parameters = [\n",
    "    {'params': [p for n, p in model.named_parameters() if not any(nd in n for nd in no_decay)], 'weight_decay': 0.01},\n",
    "    {'params': [p for n, p in model.named_parameters() if any(nd in n for nd in no_decay)], 'weight_decay': 0.0}\n",
    "]\n",
    "optimizer = AdamW(optimizer_grouped_parameters, lr=learning_rate)\n",
    "loss_fn = nn.CrossEntropyLoss()\n",
    "t_total = len(train_dataloader) * num_epochs\n",
    "warmup_step = int(t_total * warmup_ratio)\n",
    "print(t_total, warmup_step)\n",
    "scheduler = WarmupLinearSchedule(optimizer, warmup_steps=warmup_step, t_total=t_total)\n",
    "def calc_accuracy(X,Y):\n",
    "    max_vals, max_indices = torch.max(X, 1)\n",
    "    train_acc = (max_indices == Y).sum().data.cpu().numpy()/max_indices.size()[0]\n",
    "    return train_acc\n",
    "for e in range(num_epochs):\n",
    "    train_acc = 0.0\n",
    "    test_acc = 0.0\n",
    "    model.train()\n",
    "    for batch_id, (token_ids, valid_length, segment_ids, label) in enumerate(tqdm_notebook(train_dataloader)):\n",
    "        if len(label) != batch_size:\n",
    "            break\n",
    "        optimizer.zero_grad()\n",
    "        token_ids = token_ids.long().to(device)\n",
    "        segment_ids = segment_ids.long().to(device)\n",
    "        valid_length= valid_length\n",
    "        label = label.long().to(device)\n",
    "        predictions= model(token_ids, valid_length, segment_ids).squeeze(1)\n",
    "        loss = loss_fn(predictions, label)\n",
    "        loss.backward()\n",
    "        torch.nn.utils.clip_grad_norm_(model.parameters(), max_grad_norm)\n",
    "        optimizer.step()\n",
    "        scheduler.step()  # Update learning rate schedule\n",
    "        train_acc += calc_accuracy(predictions, label)\n",
    "        if batch_id % log_interval == 0:\n",
    "            print(\"epoch {} batch id {} loss {} train acc {}\".format(e+1, batch_id+1, loss.data.cpu().numpy(), train_acc / (batch_id+1)))\n",
    "            torch.save(model.state_dict(), 'model.ckpt')\n",
    "    print(\"epoch {} train acc {}\".format(e+1, train_acc / (batch_id+1)))\n",
    "    # model.eval()\n",
    "    for batch_id, (token_ids, valid_length, segment_ids, label) in enumerate(tqdm_notebook(test_dataloader)):\n",
    "        token_ids = token_ids.long().to(device)\n",
    "        segment_ids = segment_ids.long().to(device)\n",
    "        valid_length= valid_length\n",
    "        label = label.long().to(device)\n",
    "        out = test_model(token_ids, valid_length, segment_ids)\n",
    "        test_acc += calc_accuracy(out, label)\n",
    "    print(\"epoch {} test acc {}\".format(e+1, test_acc / (batch_id+1)))\n",
    "# torch.save(model, '/home/sora/Desktop/mkj/tmp')"
   ]
  },
  {
   "cell_type": "code",
   "execution_count": null,
   "metadata": {},
   "outputs": [],
   "source": []
  }
 ],
 "metadata": {
  "kernelspec": {
   "display_name": "long36v",
   "language": "python",
   "name": "long36v"
  },
  "language_info": {
   "codemirror_mode": {
    "name": "ipython",
    "version": 3
   },
   "file_extension": ".py",
   "mimetype": "text/x-python",
   "name": "python",
   "nbconvert_exporter": "python",
   "pygments_lexer": "ipython3",
   "version": "3.6.12"
  }
 },
 "nbformat": 4,
 "nbformat_minor": 4
}
