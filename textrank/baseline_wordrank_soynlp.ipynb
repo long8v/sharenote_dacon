{
 "cells": [
  {
   "cell_type": "markdown",
   "metadata": {},
   "source": [
    "코드 출처 : https://lovit.github.io/nlp/2019/04/30/textrank/"
   ]
  },
  {
   "cell_type": "code",
   "execution_count": 1,
   "metadata": {},
   "outputs": [],
   "source": [
    "import pandas as pd\n",
    "from konlpy.tag import Mecab\n",
    "import pickle"
   ]
  },
  {
   "cell_type": "code",
   "execution_count": 3,
   "metadata": {},
   "outputs": [],
   "source": [
    "# tagger = Mecab()"
   ]
  },
  {
   "cell_type": "code",
   "execution_count": 4,
   "metadata": {},
   "outputs": [],
   "source": [
    "filepath = '../file/train.jsonl'"
   ]
  },
  {
   "cell_type": "code",
   "execution_count": 5,
   "metadata": {},
   "outputs": [],
   "source": [
    "file = pd.read_json(filepath, lines=True)"
   ]
  },
  {
   "cell_type": "code",
   "execution_count": 6,
   "metadata": {},
   "outputs": [
    {
     "data": {
      "text/html": [
       "<div>\n",
       "<style scoped>\n",
       "    .dataframe tbody tr th:only-of-type {\n",
       "        vertical-align: middle;\n",
       "    }\n",
       "\n",
       "    .dataframe tbody tr th {\n",
       "        vertical-align: top;\n",
       "    }\n",
       "\n",
       "    .dataframe thead th {\n",
       "        text-align: right;\n",
       "    }\n",
       "</style>\n",
       "<table border=\"1\" class=\"dataframe\">\n",
       "  <thead>\n",
       "    <tr style=\"text-align: right;\">\n",
       "      <th></th>\n",
       "      <th>media</th>\n",
       "      <th>id</th>\n",
       "      <th>article_original</th>\n",
       "      <th>abstractive</th>\n",
       "      <th>extractive</th>\n",
       "    </tr>\n",
       "  </thead>\n",
       "  <tbody>\n",
       "    <tr>\n",
       "      <th>0</th>\n",
       "      <td>당진시대</td>\n",
       "      <td>327827480</td>\n",
       "      <td>[당진시 문화관광과를 대상으로 하는 행정사무감사에서 당진시립합창단 관계자가 보낸 것...</td>\n",
       "      <td>지난 6일 당진시의회 행정사무감사에서 '합창단이 소리를 작게 낼 것이니 알고 있으라...</td>\n",
       "      <td>[0, 1, 2]</td>\n",
       "    </tr>\n",
       "    <tr>\n",
       "      <th>1</th>\n",
       "      <td>국제신문</td>\n",
       "      <td>339840364</td>\n",
       "      <td>[미국 메이저리그(MLB)에서 활동하는 한국 선수들의 시즌 초반 희비가 엇갈리고 있...</td>\n",
       "      <td>LA 에인절스의 최지만이 맹활약을 하여 시즌 타율 0.250에서 0.313으로 올리...</td>\n",
       "      <td>[0, 1, 3]</td>\n",
       "    </tr>\n",
       "    <tr>\n",
       "      <th>2</th>\n",
       "      <td>기호일보</td>\n",
       "      <td>371071597</td>\n",
       "      <td>[인천 부영공원 운영 생활야구협회 80여 동호회 팀에 260만 원씩 받아, 국유지로...</td>\n",
       "      <td>16일 부평구와 협회 등에 따르면 부영공원 안에 있는 야구장을 구생활체육야구협회가 ...</td>\n",
       "      <td>[6, 7, 10]</td>\n",
       "    </tr>\n",
       "    <tr>\n",
       "      <th>3</th>\n",
       "      <td>대구일보</td>\n",
       "      <td>354806783</td>\n",
       "      <td>[대구·경북첨단의료산업진흥재단 의약생산센터는 항암주사제 무균충전 시설을 갖추고 있다...</td>\n",
       "      <td>대구·경북첨단의료산업진흥재단 의약생산센터는 약사법 시행규칙에서 정한 바에 따라 전용...</td>\n",
       "      <td>[1, 6, 4]</td>\n",
       "    </tr>\n",
       "    <tr>\n",
       "      <th>4</th>\n",
       "      <td>대구신문</td>\n",
       "      <td>347022773</td>\n",
       "      <td>[국내 유통되는 탄산음료 중 식품의약품안전처에 품질인증을 받은 제품이 하나도 없는 ...</td>\n",
       "      <td>식품의약품안전처는 29일 어린이가 즐겨마시는 음료를 대상으로 영양성분을 조사한 결과...</td>\n",
       "      <td>[2, 3, 10]</td>\n",
       "    </tr>\n",
       "    <tr>\n",
       "      <th>...</th>\n",
       "      <td>...</td>\n",
       "      <td>...</td>\n",
       "      <td>...</td>\n",
       "      <td>...</td>\n",
       "      <td>...</td>\n",
       "    </tr>\n",
       "    <tr>\n",
       "      <th>42798</th>\n",
       "      <td>대구신문</td>\n",
       "      <td>334074661</td>\n",
       "      <td>[칠곡북삼초등학교(교장 서금자)에서는 지난달 7일부터 18일까지 3-5학년 학생 중...</td>\n",
       "      <td>지난달 7일부터 18일까지 칠곡북삼초등학교는 학생들에게 실제 영어 사용에 대한 자신...</td>\n",
       "      <td>[0, 1, 2]</td>\n",
       "    </tr>\n",
       "    <tr>\n",
       "      <th>42799</th>\n",
       "      <td>대구일보</td>\n",
       "      <td>362902654</td>\n",
       "      <td>[김상훈 의원, 최근 5년간, LH공공임대 임차인이 사망했으나 상속되거나 반환되지 ...</td>\n",
       "      <td>김상훈 자유한국당 의원은 최근 5년간 임차인의 사망으로 반환되지 못한 3천479가구...</td>\n",
       "      <td>[1, 2, 4]</td>\n",
       "    </tr>\n",
       "    <tr>\n",
       "      <th>42800</th>\n",
       "      <td>기호일보</td>\n",
       "      <td>355310553</td>\n",
       "      <td>[▲ 5일 오전 파주 임진각에서 열린 ‘DMZ 155마일 걷기’ 출정식에서 걷기대원...</td>\n",
       "      <td>경기도는  DMZ의 의미와 평화에 관한 국민들의 인식을 새롭게 하고자  'DMZ 1...</td>\n",
       "      <td>[2, 3, 6]</td>\n",
       "    </tr>\n",
       "    <tr>\n",
       "      <th>42801</th>\n",
       "      <td>당진시대</td>\n",
       "      <td>288844233</td>\n",
       "      <td>[당진지역 휘발유 평균 가격은 1534원, 경유 평균가격은 1343원으로 조사됐다....</td>\n",
       "      <td>지난 14일 기준 당진지역 휘발유 중 가장 저렴한 곳의 가격은 AJ토탈(주)당진주유...</td>\n",
       "      <td>[4, 6, 0]</td>\n",
       "    </tr>\n",
       "    <tr>\n",
       "      <th>42802</th>\n",
       "      <td>대전일보</td>\n",
       "      <td>337237901</td>\n",
       "      <td>[양승조 충남도지사는 12일 대기오염물질 배출 주요 사업장인 현대제철㈜ 당진공장을 ...</td>\n",
       "      <td>양승조 충남도지사는 12일 대기오염물질 배출 주요 사업장인 현대제철㈜ 당진공장에서 ...</td>\n",
       "      <td>[2, 5, 4]</td>\n",
       "    </tr>\n",
       "  </tbody>\n",
       "</table>\n",
       "<p>42803 rows × 5 columns</p>\n",
       "</div>"
      ],
      "text/plain": [
       "      media         id                                   article_original  \\\n",
       "0      당진시대  327827480  [당진시 문화관광과를 대상으로 하는 행정사무감사에서 당진시립합창단 관계자가 보낸 것...   \n",
       "1      국제신문  339840364  [미국 메이저리그(MLB)에서 활동하는 한국 선수들의 시즌 초반 희비가 엇갈리고 있...   \n",
       "2      기호일보  371071597  [인천 부영공원 운영 생활야구협회 80여 동호회 팀에 260만 원씩 받아, 국유지로...   \n",
       "3      대구일보  354806783  [대구·경북첨단의료산업진흥재단 의약생산센터는 항암주사제 무균충전 시설을 갖추고 있다...   \n",
       "4      대구신문  347022773  [국내 유통되는 탄산음료 중 식품의약품안전처에 품질인증을 받은 제품이 하나도 없는 ...   \n",
       "...     ...        ...                                                ...   \n",
       "42798  대구신문  334074661  [칠곡북삼초등학교(교장 서금자)에서는 지난달 7일부터 18일까지 3-5학년 학생 중...   \n",
       "42799  대구일보  362902654  [김상훈 의원, 최근 5년간, LH공공임대 임차인이 사망했으나 상속되거나 반환되지 ...   \n",
       "42800  기호일보  355310553  [▲ 5일 오전 파주 임진각에서 열린 ‘DMZ 155마일 걷기’ 출정식에서 걷기대원...   \n",
       "42801  당진시대  288844233  [당진지역 휘발유 평균 가격은 1534원, 경유 평균가격은 1343원으로 조사됐다....   \n",
       "42802  대전일보  337237901  [양승조 충남도지사는 12일 대기오염물질 배출 주요 사업장인 현대제철㈜ 당진공장을 ...   \n",
       "\n",
       "                                             abstractive  extractive  \n",
       "0      지난 6일 당진시의회 행정사무감사에서 '합창단이 소리를 작게 낼 것이니 알고 있으라...   [0, 1, 2]  \n",
       "1      LA 에인절스의 최지만이 맹활약을 하여 시즌 타율 0.250에서 0.313으로 올리...   [0, 1, 3]  \n",
       "2      16일 부평구와 협회 등에 따르면 부영공원 안에 있는 야구장을 구생활체육야구협회가 ...  [6, 7, 10]  \n",
       "3      대구·경북첨단의료산업진흥재단 의약생산센터는 약사법 시행규칙에서 정한 바에 따라 전용...   [1, 6, 4]  \n",
       "4      식품의약품안전처는 29일 어린이가 즐겨마시는 음료를 대상으로 영양성분을 조사한 결과...  [2, 3, 10]  \n",
       "...                                                  ...         ...  \n",
       "42798  지난달 7일부터 18일까지 칠곡북삼초등학교는 학생들에게 실제 영어 사용에 대한 자신...   [0, 1, 2]  \n",
       "42799  김상훈 자유한국당 의원은 최근 5년간 임차인의 사망으로 반환되지 못한 3천479가구...   [1, 2, 4]  \n",
       "42800  경기도는  DMZ의 의미와 평화에 관한 국민들의 인식을 새롭게 하고자  'DMZ 1...   [2, 3, 6]  \n",
       "42801  지난 14일 기준 당진지역 휘발유 중 가장 저렴한 곳의 가격은 AJ토탈(주)당진주유...   [4, 6, 0]  \n",
       "42802  양승조 충남도지사는 12일 대기오염물질 배출 주요 사업장인 현대제철㈜ 당진공장에서 ...   [2, 5, 4]  \n",
       "\n",
       "[42803 rows x 5 columns]"
      ]
     },
     "execution_count": 6,
     "metadata": {},
     "output_type": "execute_result"
    }
   ],
   "source": [
    "file"
   ]
  },
  {
   "cell_type": "code",
   "execution_count": 5,
   "metadata": {},
   "outputs": [],
   "source": [
    "# file['article_original_pos'] = file['article_original'].apply(lambda e: [tagger.pos(word) for word in e])"
   ]
  },
  {
   "cell_type": "code",
   "execution_count": 6,
   "metadata": {},
   "outputs": [],
   "source": [
    "# file['article_original_pos'].head(3)"
   ]
  },
  {
   "cell_type": "code",
   "execution_count": 7,
   "metadata": {},
   "outputs": [],
   "source": [
    "# def get_only_noun_and_verb(pos_list):\n",
    "#     return [word for word, pos in pos_list if pos[0] in ['N', 'V']]\n",
    "\n",
    "# def get_only_noun_and_verb(pos_list):\n",
    "#     return [word for word, pos in pos_list]\n",
    "\n",
    "def get_only_noun_and_verb(pos_list):\n",
    "    return [word for word, pos in pos_list if pos[0] in ['N']]"
   ]
  },
  {
   "cell_type": "code",
   "execution_count": 8,
   "metadata": {},
   "outputs": [],
   "source": [
    "# file['selected_pos'] = file['article_original_pos'].apply(lambda e:\n",
    "#                                                          [get_only_noun_and_verb(sentence)\n",
    "#                                                           for sentence in e])"
   ]
  },
  {
   "cell_type": "code",
   "execution_count": 9,
   "metadata": {},
   "outputs": [],
   "source": [
    "# with open('../file/file_pos.p', 'wb') as f:\n",
    "#     pickle.dump(file, f)"
   ]
  },
  {
   "cell_type": "code",
   "execution_count": 10,
   "metadata": {},
   "outputs": [],
   "source": [
    "with open('../file/file_pos.p', 'rb') as f:\n",
    "    file_pos = pickle.load(f)"
   ]
  },
  {
   "cell_type": "code",
   "execution_count": 11,
   "metadata": {},
   "outputs": [],
   "source": [
    "file_pos['selected_pos'] = file_pos['article_original_pos'].apply(lambda e:\n",
    "                                                         [get_only_noun_and_verb(sentence)\n",
    "                                                          for sentence in e])"
   ]
  },
  {
   "cell_type": "code",
   "execution_count": 12,
   "metadata": {},
   "outputs": [],
   "source": [
    "from textrank import sentence"
   ]
  },
  {
   "cell_type": "code",
   "execution_count": 13,
   "metadata": {},
   "outputs": [],
   "source": [
    "from textrank import KeysentenceSummarizer"
   ]
  },
  {
   "cell_type": "code",
   "execution_count": 14,
   "metadata": {},
   "outputs": [],
   "source": [
    "sents = file_pos.selected_pos.tolist()"
   ]
  },
  {
   "cell_type": "code",
   "execution_count": 15,
   "metadata": {},
   "outputs": [],
   "source": [
    "def get_pos_mecab(sentence):\n",
    "    return [word for word, pos in tagger.pos(sentence) if pos[0] in ['N']]"
   ]
  },
  {
   "cell_type": "code",
   "execution_count": 16,
   "metadata": {},
   "outputs": [],
   "source": [
    "sents = file_pos['article_original'].tolist()"
   ]
  },
  {
   "cell_type": "code",
   "execution_count": 17,
   "metadata": {},
   "outputs": [],
   "source": [
    "# sent_graph = sentence.sent_graph(sents[0], tokenize=lambda e: get_pos_mecab(e))"
   ]
  },
  {
   "cell_type": "code",
   "execution_count": 18,
   "metadata": {},
   "outputs": [],
   "source": [
    "# sent_graph.toarray()"
   ]
  },
  {
   "cell_type": "code",
   "execution_count": 19,
   "metadata": {},
   "outputs": [],
   "source": [
    "# sent_graph_weighted = sent_graph.toarray() + np.arange(1.0, 0.0, -1/sent_graph.toarray().shape[0])"
   ]
  },
  {
   "cell_type": "code",
   "execution_count": 20,
   "metadata": {},
   "outputs": [],
   "source": [
    "# sent_graph_weighted[sent_graph_weighted<1] = 0"
   ]
  },
  {
   "cell_type": "code",
   "execution_count": 21,
   "metadata": {},
   "outputs": [],
   "source": [
    "from scipy.sparse import csr_matrix"
   ]
  },
  {
   "cell_type": "code",
   "execution_count": 22,
   "metadata": {},
   "outputs": [],
   "source": [
    "# csr_matrix(sent_graph_weighted)"
   ]
  },
  {
   "cell_type": "code",
   "execution_count": 23,
   "metadata": {},
   "outputs": [],
   "source": [
    "import numpy as np"
   ]
  },
  {
   "cell_type": "code",
   "execution_count": 24,
   "metadata": {},
   "outputs": [],
   "source": [
    "# sent_graph.data.shape[0]"
   ]
  },
  {
   "cell_type": "code",
   "execution_count": 25,
   "metadata": {},
   "outputs": [],
   "source": [
    "# sents[0]"
   ]
  },
  {
   "cell_type": "code",
   "execution_count": 26,
   "metadata": {},
   "outputs": [],
   "source": [
    "# import torch"
   ]
  },
  {
   "cell_type": "code",
   "execution_count": 27,
   "metadata": {},
   "outputs": [],
   "source": [
    "# from torchtext.data.utils import ngrams_iterator"
   ]
  },
  {
   "cell_type": "code",
   "execution_count": 28,
   "metadata": {},
   "outputs": [],
   "source": [
    "summarizer = KeysentenceSummarizer(\n",
    "    tokenize = lambda e: e,\n",
    "#     tokenize = lambda e: list(ngrams_iterator(e, 4)),\n",
    "    min_sim = 0.3,\n",
    "    verbose = False\n",
    ")\n",
    "\n",
    "keysents = summarizer.summarize(sents[0], topk=3)"
   ]
  },
  {
   "cell_type": "code",
   "execution_count": 29,
   "metadata": {},
   "outputs": [],
   "source": [
    "keysent_list = []\n",
    "for sent in sents:\n",
    "    keysents = summarizer.summarize(sent, topk=3)\n",
    "    keysent_list.append([_[0] for _ in keysents])"
   ]
  },
  {
   "cell_type": "code",
   "execution_count": 30,
   "metadata": {},
   "outputs": [],
   "source": [
    "file_pos['predicted'] = keysent_list"
   ]
  },
  {
   "cell_type": "code",
   "execution_count": 31,
   "metadata": {},
   "outputs": [],
   "source": [
    "file_pos['corrected'] = file_pos.apply(lambda e: len(set(e.extractive).intersection(e.predicted)), \n",
    "                                       axis=1)"
   ]
  },
  {
   "cell_type": "code",
   "execution_count": 32,
   "metadata": {},
   "outputs": [],
   "source": [
    "import numpy as np "
   ]
  },
  {
   "cell_type": "code",
   "execution_count": 33,
   "metadata": {},
   "outputs": [
    {
     "data": {
      "text/plain": [
       "1.064388010186202"
      ]
     },
     "execution_count": 33,
     "metadata": {},
     "output_type": "execute_result"
    }
   ],
   "source": [
    "np.mean(file_pos.corrected) \n",
    "# 1.213910239936453 for only n, v \n",
    "# 1.0765600542018083 for all words\n",
    "# 1.243651145947714 for only nouns\n",
    "# 1.2604490339462187 for only noun bi-gram\n",
    "# 1.262177884727706 for trigram\n",
    "# 0.9798845875289115 for only nouns 1~0 linspaces\n",
    "# 0.9305422517113286 for only nouns np.mean(similiarity)~0 linspaces\n",
    "# 0.8456416606312641 for only nouns np.max(similarity)~0 linspaces "
   ]
  },
  {
   "cell_type": "code",
   "execution_count": 37,
   "metadata": {},
   "outputs": [],
   "source": [
    "filepath = '../file/extractive_test_v2.jsonl'"
   ]
  },
  {
   "cell_type": "code",
   "execution_count": 38,
   "metadata": {},
   "outputs": [],
   "source": [
    "def get_pos_mecab(sentence):\n",
    "    return [word for word, pos in tagger.pos(sentence) if pos[0] in ['N']]"
   ]
  },
  {
   "cell_type": "code",
   "execution_count": 39,
   "metadata": {},
   "outputs": [],
   "source": [
    "file = pd.read_json(filepath, lines=True)"
   ]
  },
  {
   "cell_type": "code",
   "execution_count": 40,
   "metadata": {},
   "outputs": [
    {
     "data": {
      "text/html": [
       "<div>\n",
       "<style scoped>\n",
       "    .dataframe tbody tr th:only-of-type {\n",
       "        vertical-align: middle;\n",
       "    }\n",
       "\n",
       "    .dataframe tbody tr th {\n",
       "        vertical-align: top;\n",
       "    }\n",
       "\n",
       "    .dataframe thead th {\n",
       "        text-align: right;\n",
       "    }\n",
       "</style>\n",
       "<table border=\"1\" class=\"dataframe\">\n",
       "  <thead>\n",
       "    <tr style=\"text-align: right;\">\n",
       "      <th></th>\n",
       "      <th>media</th>\n",
       "      <th>id</th>\n",
       "      <th>article_original</th>\n",
       "    </tr>\n",
       "  </thead>\n",
       "  <tbody>\n",
       "    <tr>\n",
       "      <th>0</th>\n",
       "      <td>당진시대</td>\n",
       "      <td>500733466</td>\n",
       "      <td>[▲ 석문간척지 임차법인협의회가 한국농어촌공사 당진지사 앞에 공공비축벼 320t을 ...</td>\n",
       "    </tr>\n",
       "    <tr>\n",
       "      <th>1</th>\n",
       "      <td>당진시대</td>\n",
       "      <td>500742482</td>\n",
       "      <td>[신 벌떼해장국이 손님들의 성원에 보답하고자 24시간 영업을 재개한다., 또한 이와...</td>\n",
       "    </tr>\n",
       "    <tr>\n",
       "      <th>2</th>\n",
       "      <td>당진시대</td>\n",
       "      <td>500742484</td>\n",
       "      <td>[1년 전과 비교해 당진지역 휘발유 가격은 72원, 경유 가격은 103원 상승했다....</td>\n",
       "    </tr>\n",
       "    <tr>\n",
       "      <th>3</th>\n",
       "      <td>당진시대</td>\n",
       "      <td>504213810</td>\n",
       "      <td>[어기구 국회의원이 천연가스의 안정적 수급을 위해 2020년 착공이 예정돼 있는 액...</td>\n",
       "    </tr>\n",
       "    <tr>\n",
       "      <th>4</th>\n",
       "      <td>당진시대</td>\n",
       "      <td>505279620</td>\n",
       "      <td>[당진시정책자문위원회가 유명무실하다는 비판이 지속적으로 제기되고 있다., 민선6기가...</td>\n",
       "    </tr>\n",
       "    <tr>\n",
       "      <th>...</th>\n",
       "      <td>...</td>\n",
       "      <td>...</td>\n",
       "      <td>...</td>\n",
       "    </tr>\n",
       "    <tr>\n",
       "      <th>9982</th>\n",
       "      <td>기호일보</td>\n",
       "      <td>745338220</td>\n",
       "      <td>[지지부진한 인천 내항 재개발사업의 물꼬를 터 줄 것으로 기대했던 도시재생 혁신지구...</td>\n",
       "    </tr>\n",
       "    <tr>\n",
       "      <th>9983</th>\n",
       "      <td>광주일보</td>\n",
       "      <td>745367988</td>\n",
       "      <td>[청와대는 30일 문재인 대통령의 ‘1호 공약’인 고위공직자범죄수사처(공수처) 설치...</td>\n",
       "    </tr>\n",
       "    <tr>\n",
       "      <th>9984</th>\n",
       "      <td>광주일보</td>\n",
       "      <td>745368130</td>\n",
       "      <td>[광주지역 광공업 생산 감소율이 14개월 만에 최고를 기록했다., 기아자동차 광주공...</td>\n",
       "    </tr>\n",
       "    <tr>\n",
       "      <th>9985</th>\n",
       "      <td>광주일보</td>\n",
       "      <td>745368136</td>\n",
       "      <td>[아름다운 가게 용봉점 헌책방이 개점 10년만에 문을 닫는 다., 올해 열렸던 10...</td>\n",
       "    </tr>\n",
       "    <tr>\n",
       "      <th>9986</th>\n",
       "      <td>광주일보</td>\n",
       "      <td>745368284</td>\n",
       "      <td>[현대차그룹은 최근 한국렌터카사업조합연합회와 ‘미래 모빌리티 사업 협력을 위한 양해...</td>\n",
       "    </tr>\n",
       "  </tbody>\n",
       "</table>\n",
       "<p>9987 rows × 3 columns</p>\n",
       "</div>"
      ],
      "text/plain": [
       "     media         id                                   article_original\n",
       "0     당진시대  500733466  [▲ 석문간척지 임차법인협의회가 한국농어촌공사 당진지사 앞에 공공비축벼 320t을 ...\n",
       "1     당진시대  500742482  [신 벌떼해장국이 손님들의 성원에 보답하고자 24시간 영업을 재개한다., 또한 이와...\n",
       "2     당진시대  500742484  [1년 전과 비교해 당진지역 휘발유 가격은 72원, 경유 가격은 103원 상승했다....\n",
       "3     당진시대  504213810  [어기구 국회의원이 천연가스의 안정적 수급을 위해 2020년 착공이 예정돼 있는 액...\n",
       "4     당진시대  505279620  [당진시정책자문위원회가 유명무실하다는 비판이 지속적으로 제기되고 있다., 민선6기가...\n",
       "...    ...        ...                                                ...\n",
       "9982  기호일보  745338220  [지지부진한 인천 내항 재개발사업의 물꼬를 터 줄 것으로 기대했던 도시재생 혁신지구...\n",
       "9983  광주일보  745367988  [청와대는 30일 문재인 대통령의 ‘1호 공약’인 고위공직자범죄수사처(공수처) 설치...\n",
       "9984  광주일보  745368130  [광주지역 광공업 생산 감소율이 14개월 만에 최고를 기록했다., 기아자동차 광주공...\n",
       "9985  광주일보  745368136  [아름다운 가게 용봉점 헌책방이 개점 10년만에 문을 닫는 다., 올해 열렸던 10...\n",
       "9986  광주일보  745368284  [현대차그룹은 최근 한국렌터카사업조합연합회와 ‘미래 모빌리티 사업 협력을 위한 양해...\n",
       "\n",
       "[9987 rows x 3 columns]"
      ]
     },
     "execution_count": 40,
     "metadata": {},
     "output_type": "execute_result"
    }
   ],
   "source": [
    "file"
   ]
  },
  {
   "cell_type": "code",
   "execution_count": 42,
   "metadata": {},
   "outputs": [],
   "source": [
    "summarizer = KeysentenceSummarizer(\n",
    "    tokenize = lambda e: list(ngrams_iterator(get_pos_mecab(e),2)),\n",
    "    min_sim = 0.3,\n",
    "    verbose = False\n",
    ")"
   ]
  },
  {
   "cell_type": "code",
   "execution_count": 43,
   "metadata": {},
   "outputs": [
    {
     "data": {
      "text/plain": [
       "0       [▲ 석문간척지 임차법인협의회가 한국농어촌공사 당진지사 앞에 공공비축벼 320t을 ...\n",
       "1       [신 벌떼해장국이 손님들의 성원에 보답하고자 24시간 영업을 재개한다., 또한 이와...\n",
       "2       [1년 전과 비교해 당진지역 휘발유 가격은 72원, 경유 가격은 103원 상승했다....\n",
       "3       [어기구 국회의원이 천연가스의 안정적 수급을 위해 2020년 착공이 예정돼 있는 액...\n",
       "4       [당진시정책자문위원회가 유명무실하다는 비판이 지속적으로 제기되고 있다., 민선6기가...\n",
       "                              ...                        \n",
       "9982    [지지부진한 인천 내항 재개발사업의 물꼬를 터 줄 것으로 기대했던 도시재생 혁신지구...\n",
       "9983    [청와대는 30일 문재인 대통령의 ‘1호 공약’인 고위공직자범죄수사처(공수처) 설치...\n",
       "9984    [광주지역 광공업 생산 감소율이 14개월 만에 최고를 기록했다., 기아자동차 광주공...\n",
       "9985    [아름다운 가게 용봉점 헌책방이 개점 10년만에 문을 닫는 다., 올해 열렸던 10...\n",
       "9986    [현대차그룹은 최근 한국렌터카사업조합연합회와 ‘미래 모빌리티 사업 협력을 위한 양해...\n",
       "Name: article_original, Length: 9987, dtype: object"
      ]
     },
     "execution_count": 43,
     "metadata": {},
     "output_type": "execute_result"
    }
   ],
   "source": [
    "file.article_original"
   ]
  },
  {
   "cell_type": "code",
   "execution_count": 48,
   "metadata": {},
   "outputs": [],
   "source": [
    "keysent_list = []\n",
    "for sent in file.article_original.tolist():\n",
    "    keysents = summarizer.summarize(sent, topk=3)\n",
    "    keysent_list.append([_[0] for _ in keysents])"
   ]
  },
  {
   "cell_type": "code",
   "execution_count": 49,
   "metadata": {},
   "outputs": [],
   "source": [
    "file['sentence_id'] = keysent_list"
   ]
  },
  {
   "cell_type": "code",
   "execution_count": 50,
   "metadata": {},
   "outputs": [],
   "source": [
    "file['sentence_id'] = file['sentence_id'].apply(lambda e: sorted(e))"
   ]
  },
  {
   "cell_type": "code",
   "execution_count": 51,
   "metadata": {},
   "outputs": [],
   "source": [
    "file['extractive'] = file.apply(lambda e: [e.article_original[idx] \n",
    "                                           for idx in e.sentence_id], axis=1)"
   ]
  },
  {
   "cell_type": "code",
   "execution_count": 52,
   "metadata": {},
   "outputs": [],
   "source": [
    "file['summary'] = file.extractive.apply(lambda e: '\\n'.join(e))"
   ]
  },
  {
   "cell_type": "code",
   "execution_count": 53,
   "metadata": {},
   "outputs": [],
   "source": [
    "file[['id', 'summary']].to_csv('../file/submit.csv', index=None)"
   ]
  },
  {
   "cell_type": "code",
   "execution_count": null,
   "metadata": {},
   "outputs": [],
   "source": []
  }
 ],
 "metadata": {
  "kernelspec": {
   "display_name": "long36v",
   "language": "python",
   "name": "long36v"
  },
  "language_info": {
   "codemirror_mode": {
    "name": "ipython",
    "version": 3
   },
   "file_extension": ".py",
   "mimetype": "text/x-python",
   "name": "python",
   "nbconvert_exporter": "python",
   "pygments_lexer": "ipython3",
   "version": "3.6.12"
  }
 },
 "nbformat": 4,
 "nbformat_minor": 4
}
