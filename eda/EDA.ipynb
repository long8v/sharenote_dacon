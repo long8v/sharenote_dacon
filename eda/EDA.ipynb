{
 "cells": [
  {
   "cell_type": "code",
   "execution_count": 98,
   "metadata": {},
   "outputs": [],
   "source": [
    "import json\n",
    "from IPython.core.interactiveshell import InteractiveShell\n",
    "InteractiveShell.ast_node_interactivity = \"all\"\n",
    "import matplotlib.pyplot as plt\n",
    "import pandas as pd\n",
    "import numpy as np\n",
    "plt.rcParams[\"font.family\"] = 'NanumBarunGothic'"
   ]
  },
  {
   "cell_type": "code",
   "execution_count": 2,
   "metadata": {},
   "outputs": [],
   "source": [
    "data = []\n",
    "with open('data/train.jsonl', 'r', encoding='utf-8') as f:\n",
    "    for line in f:\n",
    "        data.append(line) "
   ]
  },
  {
   "cell_type": "code",
   "execution_count": 13,
   "metadata": {},
   "outputs": [],
   "source": [
    "train_dict = {}\n",
    "\n",
    "for data_str in data:\n",
    "    item = eval(data_str)\n",
    "    train_dict[item[\"id\"]] = {\"media\" : item[\"media\"], \n",
    "                             \"article_original\" : item[\"article_original\"],\n",
    "                             \"abs\":item[\"abstractive\"],\n",
    "                             \"ext\":item[\"extractive\"]}"
   ]
  },
  {
   "cell_type": "markdown",
   "metadata": {},
   "source": [
    "## data 분포 "
   ]
  },
  {
   "cell_type": "code",
   "execution_count": 17,
   "metadata": {},
   "outputs": [
    {
     "data": {
      "text/plain": [
       "42803"
      ]
     },
     "execution_count": 17,
     "metadata": {},
     "output_type": "execute_result"
    }
   ],
   "source": [
    "## train_data \n",
    "## 총 42,803개 \n",
    "len(train_dict)"
   ]
  },
  {
   "cell_type": "code",
   "execution_count": 107,
   "metadata": {},
   "outputs": [],
   "source": [
    "## data 분포파악\n",
    "## 주로 지역 언론사 위주\n",
    "from collections import Counter\n",
    "\n",
    "media = []\n",
    "article_len = []\n",
    "ext_pos = []\n",
    "ext_pos_cnt = []\n",
    "\n",
    "for item in train_dict.items():\n",
    "    media.append(item[1][\"media\"])\n",
    "    article_len.append(len(item[1][\"article_original\"]))\n",
    "    ext_pos += item[1][\"ext\"]\n",
    "    ext_pos_cnt.append(len(item[1][\"ext\"]))\n"
   ]
  },
  {
   "cell_type": "code",
   "execution_count": 65,
   "metadata": {},
   "outputs": [
    {
     "data": {
      "text/plain": [
       "Text(0.5, 1.0, '미디어 분포')"
      ]
     },
     "execution_count": 65,
     "metadata": {},
     "output_type": "execute_result"
    },
    {
     "data": {
      "text/plain": [
       "Text(0.5, 0, '미디어 명')"
      ]
     },
     "execution_count": 65,
     "metadata": {},
     "output_type": "execute_result"
    },
    {
     "data": {
      "text/plain": [
       "Text(0, 0.5, 'count')"
      ]
     },
     "execution_count": 65,
     "metadata": {},
     "output_type": "execute_result"
    },
    {
     "data": {
      "text/plain": [
       "([0, 1, 2, 3, 4, 5, 6, 7, 8, 9, 10], <a list of 11 Text xticklabel objects>)"
      ]
     },
     "execution_count": 65,
     "metadata": {},
     "output_type": "execute_result"
    },
    {
     "data": {
      "image/png": "[encoded data removed]",
      "text/plain": [
       "<Figure size 432x288 with 1 Axes>"
      ]
     },
     "metadata": {
      "needs_background": "light"
     },
     "output_type": "display_data"
    },
    {
     "data": {
      "text/plain": [
       "[('기호일보', 7166),\n",
       " ('국제신문', 6678),\n",
       " ('대전일보', 4831),\n",
       " ('광주일보', 4155),\n",
       " ('남도일보', 4148),\n",
       " ('광주매일신문', 3783),\n",
       " ('대구신문', 3750),\n",
       " ('대구일보', 3060),\n",
       " ('경기일보', 2319),\n",
       " ('당진시대', 2014),\n",
       " ('광양신문', 899)]"
      ]
     },
     "execution_count": 65,
     "metadata": {},
     "output_type": "execute_result"
    }
   ],
   "source": [
    "hist = plt.hist(media, bins=100)\n",
    "plt.title(\"미디어 분포\")\n",
    "plt.xlabel(\"미디어 명\")\n",
    "plt.ylabel(\"count\")\n",
    "plt.xticks(rotation=45)\n",
    "plt.show()\n",
    "\n",
    "sorted(Counter(media).items(), key=lambda x: x[1], reverse=True)"
   ]
  },
  {
   "cell_type": "code",
   "execution_count": 58,
   "metadata": {},
   "outputs": [
    {
     "data": {
      "text/plain": [
       "Text(0.5, 1.0, '뉴스 평균 문장 길이')"
      ]
     },
     "execution_count": 58,
     "metadata": {},
     "output_type": "execute_result"
    },
    {
     "data": {
      "text/plain": [
       "Text(0.5, 0, '문장 길이')"
      ]
     },
     "execution_count": 58,
     "metadata": {},
     "output_type": "execute_result"
    },
    {
     "data": {
      "text/plain": [
       "Text(0, 0.5, 'count')"
      ]
     },
     "execution_count": 58,
     "metadata": {},
     "output_type": "execute_result"
    },
    {
     "data": {
      "image/png": "[encoded data removed]",
      "text/plain": [
       "<Figure size 432x288 with 1 Axes>"
      ]
     },
     "metadata": {
      "needs_background": "light"
     },
     "output_type": "display_data"
    }
   ],
   "source": [
    "hist = plt.hist(article_len, bins=100, range=(min(article_len), max(article_len)))\n",
    "plt.title(\"뉴스 길이(문장) 분포\")\n",
    "plt.xlabel(\"문장 길이\")\n",
    "plt.ylabel(\"count\")\n",
    "\n",
    "plt.show()\n",
    "\n",
    "sorted(Counter(article_len).items(), key=lambda x: x[0], reverse=False)"
   ]
  },
  {
   "cell_type": "code",
   "execution_count": 109,
   "metadata": {},
   "outputs": [
    {
     "data": {
      "text/plain": [
       "Text(0.5, 1.0, '중요문장 위치 분포')"
      ]
     },
     "execution_count": 109,
     "metadata": {},
     "output_type": "execute_result"
    },
    {
     "data": {
      "text/plain": [
       "Text(0.5, 0, '중요문장 위치')"
      ]
     },
     "execution_count": 109,
     "metadata": {},
     "output_type": "execute_result"
    },
    {
     "data": {
      "text/plain": [
       "Text(0, 0.5, 'count')"
      ]
     },
     "execution_count": 109,
     "metadata": {},
     "output_type": "execute_result"
    },
    {
     "data": {
      "image/png": "[encoded data removed]",
      "text/plain": [
       "<Figure size 432x288 with 1 Axes>"
      ]
     },
     "metadata": {
      "needs_background": "light"
     },
     "output_type": "display_data"
    },
    {
     "data": {
      "text/plain": [
       "[(0, 21998),\n",
       " (1, 20959),\n",
       " (2, 20394),\n",
       " (3, 15551),\n",
       " (4, 11428),\n",
       " (5, 8358),\n",
       " (6, 6488),\n",
       " (7, 4840),\n",
       " (8, 3754),\n",
       " (9, 2800)]"
      ]
     },
     "execution_count": 109,
     "metadata": {},
     "output_type": "execute_result"
    }
   ],
   "source": [
    "hist = plt.hist(ext_pos, bins=100, range=(min(ext_pos), max(ext_pos)))\n",
    "plt.title(\"중요문장 위치 분포\")\n",
    "plt.xlabel(\"중요문장 위치\")\n",
    "plt.ylabel(\"count\")\n",
    "\n",
    "plt.show()\n",
    "\n",
    "sorted(Counter(ext_pos).items(), key=lambda x: x[0], reverse=False)[:10]"
   ]
  },
  {
   "cell_type": "code",
   "execution_count": 113,
   "metadata": {},
   "outputs": [
    {
     "data": {
      "text/plain": [
       "Text(0.5, 1.0, '아티클 당 중요문장 개수')"
      ]
     },
     "execution_count": 113,
     "metadata": {},
     "output_type": "execute_result"
    },
    {
     "data": {
      "text/plain": [
       "Text(0.5, 0, '중요문장 개수')"
      ]
     },
     "execution_count": 113,
     "metadata": {},
     "output_type": "execute_result"
    },
    {
     "data": {
      "text/plain": [
       "Text(0, 0.5, 'count')"
      ]
     },
     "execution_count": 113,
     "metadata": {},
     "output_type": "execute_result"
    },
    {
     "data": {
      "image/png": "[encoded data removed]",
      "text/plain": [
       "<Figure size 432x288 with 1 Axes>"
      ]
     },
     "metadata": {
      "needs_background": "light"
     },
     "output_type": "display_data"
    },
    {
     "data": {
      "text/plain": [
       "Counter({3: 42566, 2: 234, 1: 3})"
      ]
     },
     "execution_count": 113,
     "metadata": {},
     "output_type": "execute_result"
    }
   ],
   "source": [
    "### 중요문장이 대부분 3개이지만, 일부 기사의 경우 중요문장이 1,2개이다\n",
    "# {3: 42566, 2: 234, 1: 3}\n",
    "\n",
    "hist = plt.hist(ext_pos_cnt, bins=100, range=(min(ext_pos_cnt), max(ext_pos_cnt)))\n",
    "plt.title(\"아티클 당 중요문장 개수\")\n",
    "plt.xlabel(\"중요문장 개수\")\n",
    "plt.ylabel(\"count\")\n",
    "\n",
    "plt.show()\n",
    "\n",
    "Counter(ext_pos_cnt)"
   ]
  },
  {
   "cell_type": "markdown",
   "metadata": {},
   "source": [
    "## 중요문장이 뒤에 있는 경우\n",
    "- 어떤 케이스인지"
   ]
  },
  {
   "cell_type": "code",
   "execution_count": 119,
   "metadata": {},
   "outputs": [],
   "source": [
    "id_list =[]\n",
    "ext_last_pos =[]\n",
    "\n",
    "for item in train_dict.items():\n",
    "    id_list.append(item[0])\n",
    "    ext_last_pos.append(max(item[1][\"ext\"]))\n",
    "    \n",
    "position_info = pd.DataFrame()\n",
    "position_info[\"id\"] = id_list\n",
    "position_info[\"len\"] = article_len\n",
    "position_info[\"ext_last_pos\"] = ext_last_pos\n",
    "position_info[\"last_pos_ratio\"] = position_info.apply(lambda x : np.round(x[\"ext_last_pos\"]/x[\"len\"], 2), axis=1)\n",
    "position_info[\"ext_pos_cnt\"] = ext_pos_cnt"
   ]
  },
  {
   "cell_type": "code",
   "execution_count": 105,
   "metadata": {},
   "outputs": [
    {
     "data": {
      "text/html": [
       "<div>\n",
       "<style scoped>\n",
       "    .dataframe tbody tr th:only-of-type {\n",
       "        vertical-align: middle;\n",
       "    }\n",
       "\n",
       "    .dataframe tbody tr th {\n",
       "        vertical-align: top;\n",
       "    }\n",
       "\n",
       "    .dataframe thead th {\n",
       "        text-align: right;\n",
       "    }\n",
       "</style>\n",
       "<table border=\"1\" class=\"dataframe\">\n",
       "  <thead>\n",
       "    <tr style=\"text-align: right;\">\n",
       "      <th></th>\n",
       "      <th>id</th>\n",
       "      <th>len</th>\n",
       "      <th>ext_last_pos</th>\n",
       "      <th>last_pos_ratio</th>\n",
       "    </tr>\n",
       "  </thead>\n",
       "  <tbody>\n",
       "    <tr>\n",
       "      <td>4015</td>\n",
       "      <td>278256836</td>\n",
       "      <td>27</td>\n",
       "      <td>0</td>\n",
       "      <td>0.00</td>\n",
       "    </tr>\n",
       "    <tr>\n",
       "      <td>36550</td>\n",
       "      <td>324595593</td>\n",
       "      <td>4</td>\n",
       "      <td>0</td>\n",
       "      <td>0.00</td>\n",
       "    </tr>\n",
       "    <tr>\n",
       "      <td>38337</td>\n",
       "      <td>332326394</td>\n",
       "      <td>58</td>\n",
       "      <td>2</td>\n",
       "      <td>0.03</td>\n",
       "    </tr>\n",
       "    <tr>\n",
       "      <td>41460</td>\n",
       "      <td>341529607</td>\n",
       "      <td>49</td>\n",
       "      <td>2</td>\n",
       "      <td>0.04</td>\n",
       "    </tr>\n",
       "    <tr>\n",
       "      <td>26642</td>\n",
       "      <td>335717360</td>\n",
       "      <td>25</td>\n",
       "      <td>1</td>\n",
       "      <td>0.04</td>\n",
       "    </tr>\n",
       "    <tr>\n",
       "      <td>...</td>\n",
       "      <td>...</td>\n",
       "      <td>...</td>\n",
       "      <td>...</td>\n",
       "      <td>...</td>\n",
       "    </tr>\n",
       "    <tr>\n",
       "      <td>23204</td>\n",
       "      <td>331381869</td>\n",
       "      <td>42</td>\n",
       "      <td>41</td>\n",
       "      <td>0.98</td>\n",
       "    </tr>\n",
       "    <tr>\n",
       "      <td>6322</td>\n",
       "      <td>342212089</td>\n",
       "      <td>43</td>\n",
       "      <td>42</td>\n",
       "      <td>0.98</td>\n",
       "    </tr>\n",
       "    <tr>\n",
       "      <td>15606</td>\n",
       "      <td>367175136</td>\n",
       "      <td>46</td>\n",
       "      <td>45</td>\n",
       "      <td>0.98</td>\n",
       "    </tr>\n",
       "    <tr>\n",
       "      <td>36401</td>\n",
       "      <td>333899022</td>\n",
       "      <td>71</td>\n",
       "      <td>70</td>\n",
       "      <td>0.99</td>\n",
       "    </tr>\n",
       "    <tr>\n",
       "      <td>36906</td>\n",
       "      <td>333271309</td>\n",
       "      <td>71</td>\n",
       "      <td>70</td>\n",
       "      <td>0.99</td>\n",
       "    </tr>\n",
       "  </tbody>\n",
       "</table>\n",
       "<p>42803 rows × 4 columns</p>\n",
       "</div>"
      ],
      "text/plain": [
       "              id  len  ext_last_pos  last_pos_ratio\n",
       "4015   278256836   27             0            0.00\n",
       "36550  324595593    4             0            0.00\n",
       "38337  332326394   58             2            0.03\n",
       "41460  341529607   49             2            0.04\n",
       "26642  335717360   25             1            0.04\n",
       "...          ...  ...           ...             ...\n",
       "23204  331381869   42            41            0.98\n",
       "6322   342212089   43            42            0.98\n",
       "15606  367175136   46            45            0.98\n",
       "36401  333899022   71            70            0.99\n",
       "36906  333271309   71            70            0.99\n",
       "\n",
       "[42803 rows x 4 columns]"
      ]
     },
     "execution_count": 105,
     "metadata": {},
     "output_type": "execute_result"
    }
   ],
   "source": [
    "position_info.sort_values(\"last_pos_ratio\")"
   ]
  },
  {
   "cell_type": "code",
   "execution_count": 127,
   "metadata": {},
   "outputs": [
    {
     "data": {
      "text/html": [
       "<div>\n",
       "<style scoped>\n",
       "    .dataframe tbody tr th:only-of-type {\n",
       "        vertical-align: middle;\n",
       "    }\n",
       "\n",
       "    .dataframe tbody tr th {\n",
       "        vertical-align: top;\n",
       "    }\n",
       "\n",
       "    .dataframe thead th {\n",
       "        text-align: right;\n",
       "    }\n",
       "</style>\n",
       "<table border=\"1\" class=\"dataframe\">\n",
       "  <thead>\n",
       "    <tr style=\"text-align: right;\">\n",
       "      <th></th>\n",
       "      <th>id</th>\n",
       "      <th>len</th>\n",
       "      <th>ext_last_pos</th>\n",
       "      <th>last_pos_ratio</th>\n",
       "      <th>ext_pos_cnt</th>\n",
       "    </tr>\n",
       "  </thead>\n",
       "  <tbody>\n",
       "    <tr>\n",
       "      <td>89</td>\n",
       "      <td>367848773</td>\n",
       "      <td>11</td>\n",
       "      <td>10</td>\n",
       "      <td>0.91</td>\n",
       "      <td>2</td>\n",
       "    </tr>\n",
       "    <tr>\n",
       "      <td>99</td>\n",
       "      <td>334118395</td>\n",
       "      <td>22</td>\n",
       "      <td>21</td>\n",
       "      <td>0.95</td>\n",
       "      <td>2</td>\n",
       "    </tr>\n",
       "    <tr>\n",
       "      <td>117</td>\n",
       "      <td>365742373</td>\n",
       "      <td>9</td>\n",
       "      <td>8</td>\n",
       "      <td>0.89</td>\n",
       "      <td>2</td>\n",
       "    </tr>\n",
       "    <tr>\n",
       "      <td>332</td>\n",
       "      <td>333372417</td>\n",
       "      <td>19</td>\n",
       "      <td>7</td>\n",
       "      <td>0.37</td>\n",
       "      <td>2</td>\n",
       "    </tr>\n",
       "    <tr>\n",
       "      <td>776</td>\n",
       "      <td>335300796</td>\n",
       "      <td>14</td>\n",
       "      <td>4</td>\n",
       "      <td>0.29</td>\n",
       "      <td>2</td>\n",
       "    </tr>\n",
       "    <tr>\n",
       "      <td>...</td>\n",
       "      <td>...</td>\n",
       "      <td>...</td>\n",
       "      <td>...</td>\n",
       "      <td>...</td>\n",
       "      <td>...</td>\n",
       "    </tr>\n",
       "    <tr>\n",
       "      <td>41807</td>\n",
       "      <td>356944586</td>\n",
       "      <td>7</td>\n",
       "      <td>2</td>\n",
       "      <td>0.29</td>\n",
       "      <td>2</td>\n",
       "    </tr>\n",
       "    <tr>\n",
       "      <td>41832</td>\n",
       "      <td>342807815</td>\n",
       "      <td>14</td>\n",
       "      <td>3</td>\n",
       "      <td>0.21</td>\n",
       "      <td>2</td>\n",
       "    </tr>\n",
       "    <tr>\n",
       "      <td>42592</td>\n",
       "      <td>362663056</td>\n",
       "      <td>19</td>\n",
       "      <td>14</td>\n",
       "      <td>0.74</td>\n",
       "      <td>2</td>\n",
       "    </tr>\n",
       "    <tr>\n",
       "      <td>42713</td>\n",
       "      <td>333262874</td>\n",
       "      <td>33</td>\n",
       "      <td>29</td>\n",
       "      <td>0.88</td>\n",
       "      <td>2</td>\n",
       "    </tr>\n",
       "    <tr>\n",
       "      <td>42776</td>\n",
       "      <td>339570947</td>\n",
       "      <td>14</td>\n",
       "      <td>1</td>\n",
       "      <td>0.07</td>\n",
       "      <td>2</td>\n",
       "    </tr>\n",
       "  </tbody>\n",
       "</table>\n",
       "<p>237 rows × 5 columns</p>\n",
       "</div>"
      ],
      "text/plain": [
       "              id  len  ext_last_pos  last_pos_ratio  ext_pos_cnt\n",
       "89     367848773   11            10            0.91            2\n",
       "99     334118395   22            21            0.95            2\n",
       "117    365742373    9             8            0.89            2\n",
       "332    333372417   19             7            0.37            2\n",
       "776    335300796   14             4            0.29            2\n",
       "...          ...  ...           ...             ...          ...\n",
       "41807  356944586    7             2            0.29            2\n",
       "41832  342807815   14             3            0.21            2\n",
       "42592  362663056   19            14            0.74            2\n",
       "42713  333262874   33            29            0.88            2\n",
       "42776  339570947   14             1            0.07            2\n",
       "\n",
       "[237 rows x 5 columns]"
      ]
     },
     "execution_count": 127,
     "metadata": {},
     "output_type": "execute_result"
    }
   ],
   "source": [
    "position_info[position_info[\"ext_pos_cnt\"]<=2]"
   ]
  },
  {
   "cell_type": "markdown",
   "metadata": {},
   "source": [
    "### raw 데이터확인 "
   ]
  },
  {
   "cell_type": "code",
   "execution_count": 128,
   "metadata": {},
   "outputs": [
    {
     "name": "stdout",
     "output_type": "stream",
     "text": [
      "article : \n",
      " ['가평교육지원청과 가평군은 가평혁신교육지구 사업으로 사제동행 역사·독서 기행 해외 답사 프로그램으로 ‘가평의 아이들 윤동주, 이회영, 안중근을 만나다’ 프로그램을 지난 13일부터 17일까지 중국 옌지(延吉), 퉁화(通化), 단둥(丹東), 뤼순(旅順), 다롄(大連) 등지에서 4박 5일 동안 진행했다고 20일 밝혔다.', '이번 프로그램은 관내 중고등학교의 공모를 거쳐 조종중·고등학교 학생 39명과 인솔 교사 6명, 학교와 교육지원청 관계자 3명으로 진행됐다.', '가평교육지원청과 조종중·고등학교는 국어 역사 지리 음악 과목 교사들이 협력해 교과 융합 프로젝트수업을 구성했고 지난 6월부터 학교에서 독립운동 관련 독서활동과 독립운동 관련 교과융합 프로젝트를 진행했다.', '국내 독립운동 유적답사(윤동주·김구·윤봉길·이봉창)를 진행하면서 일제강점기 빼앗긴 조국을 되찾기 위해 헌신하신 많은 독립지사들의 정신을 배우려고 노력해왔다.', '특히 13일부터 진행하는 중국독립운동 유적 답사는 조종중고 교사들이 직접 답사 자료집을 제작해 활동에 사용했다.', '가평교육지원청은 답사를 다녀온 후 관내 중·고등학교 학생들에게 답사보고회를 운영해 답사를 통해 배운 것을 유튜브 동영상과 UCC 등으로 만들어 가평 관내 여러 학교와 공유할 예정이다.', '중국독립운동유적답사를 기획한 가평교육지원청 이동준 장학사는 \"학생들이 중국독립운동 유적답사를 통해 빼앗긴 조국을 되찾기 위해 헌신했던 독립투사들의 마음을 배우기를 바란다\"며 \"최근 대한민국과 일본 사이에 과거사 문제를 둘러싸고 벌어지고 있는 상황에서 나라를 사랑한다는 것이 어떤 의미인지를 깊이 생각해보는 시간이 되기를 기대한다\"고 말했다.']\n",
      "\n",
      "abstractive : \n",
      " 가평교육지원청과 가평균은 가평혁신교육지구 사업의 일환으로 사제동행 해외 답사 프로그램 '가평의 아이들 윤동주, 이회영, 안중근을 만나다'에 총 48명이 참석하여 중국 옌지, 퉁화, 단둥 등을 방문했다.\n",
      "\n",
      "extractive : \n",
      " ['이번 프로그램은 관내 중고등학교의 공모를 거쳐 조종중·고등학교 학생 39명과 인솔 교사 6명, 학교와 교육지원청 관계자 3명으로 진행됐다.', '가평교육지원청과 조종중·고등학교는 국어 역사 지리 음악 과목 교사들이 협력해 교과 융합 프로젝트수업을 구성했고 지난 6월부터 학교에서 독립운동 관련 독서활동과 독립운동 관련 교과융합 프로젝트를 진행했다.']\n",
      "\n",
      " [2, 1]\n"
     ]
    }
   ],
   "source": [
    "id_ = \"356944586\"\n",
    "\n",
    "print(\"article : \\n\", train_dict[id_][\"article_original\"])\n",
    "print(\"\\nabstractive : \\n\", train_dict[id_][\"abs\"])\n",
    "print(\"\\nextractive : \\n\", [x for idx_, x in enumerate(train_dict[id_][\"article_original\"]) if idx_ in train_dict[id_][\"ext\"]])\n",
    "print(\"\\n\",train_dict[id_][\"ext\"])"
   ]
  },
  {
   "cell_type": "markdown",
   "metadata": {},
   "source": [
    "### Idea\n",
    "- 기관명 / 인용문"
   ]
  },
  {
   "cell_type": "code",
   "execution_count": 1,
   "metadata": {},
   "outputs": [],
   "source": [
    "from konlpy.tag import Mecab\n",
    "mecab = Mecab()"
   ]
  },
  {
   "cell_type": "code",
   "execution_count": null,
   "metadata": {},
   "outputs": [],
   "source": []
  }
 ],
 "metadata": {
  "kernelspec": {
   "display_name": "Python 3",
   "language": "python",
   "name": "python3"
  },
  "language_info": {
   "codemirror_mode": {
    "name": "ipython",
    "version": 3
   },
   "file_extension": ".py",
   "mimetype": "text/x-python",
   "name": "python",
   "nbconvert_exporter": "python",
   "pygments_lexer": "ipython3",
   "version": "3.7.4"
  }
 },
 "nbformat": 4,
 "nbformat_minor": 4
}
