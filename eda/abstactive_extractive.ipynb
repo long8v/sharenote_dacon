{
 "cells": [
  {
   "cell_type": "code",
   "execution_count": 1,
   "metadata": {},
   "outputs": [],
   "source": [
    "import pandas as pd\n",
    "from konlpy.tag import Mecab\n",
    "import pickle"
   ]
  },
  {
   "cell_type": "code",
   "execution_count": 3,
   "metadata": {},
   "outputs": [],
   "source": [
    "# tagger = Mecab()"
   ]
  },
  {
   "cell_type": "code",
   "execution_count": 3,
   "metadata": {},
   "outputs": [],
   "source": [
    "with open('../file/file_pos.p', 'rb') as f:\n",
    "    file_pos = pickle.load(f)"
   ]
  },
  {
   "cell_type": "code",
   "execution_count": 33,
   "metadata": {},
   "outputs": [],
   "source": [
    "file_pos['pos_splitted'] = file_pos.article_original_pos.apply(lambda e: [list(list(zip(*ee))[0]) for ee in e])"
   ]
  },
  {
   "cell_type": "code",
   "execution_count": 27,
   "metadata": {},
   "outputs": [],
   "source": [
    "file_pos['abstractive_splitted'] = file_pos.abstractive.apply(lambda e: [_[0] for _ in tagger.pos(e)])"
   ]
  },
  {
   "cell_type": "code",
   "execution_count": 34,
   "metadata": {},
   "outputs": [
    {
     "data": {
      "text/plain": [
       "0        [[당진시, 문화, 관광, 과, 를, 대상, 으로, 하, 는, 행정, 사무, 감사,...\n",
       "1        [[미국, 메이저, 리그, (, MLB, ), 에서, 활동, 하, 는, 한국, 선수...\n",
       "2        [[인천, 부영, 공원, 운영, 생활, 야구, 협회, 80, 여, 동호회, 팀, 에...\n",
       "3        [[대구, ·, 경북, 첨단, 의료, 산업, 진흥, 재단, 의약, 생산, 센터, 는...\n",
       "4        [[국내, 유통, 되, 는, 탄산, 음료, 중, 식품, 의, 약, 품안, 전처, 에...\n",
       "                               ...                        \n",
       "42798    [[칠, 곡, 북삼, 초등, 학교, (, 교장, 서금, 자, ), 에서, 는, 지난...\n",
       "42799    [[김상훈, 의원], [최근, 5, 년, 간, ,, LH, 공공, 임대, 임차인, ...\n",
       "42800    [[▲, 5, 일, 오전, 파주, 임진, 각, 에서, 열린, ‘, DMZ, 155,...\n",
       "42801    [[당진, 지역, 휘발유, 평균, 가격, 은, 1534, 원, ,, 경유, 평균, ...\n",
       "42802    [[양승조, 충남, 도, 지사, 는, 12, 일, 대기, 오염, 물질, 배출, 주요...\n",
       "Name: pos_splitted, Length: 42803, dtype: object"
      ]
     },
     "execution_count": 34,
     "metadata": {},
     "output_type": "execute_result"
    }
   ],
   "source": [
    "file_pos.pos_splitted"
   ]
  },
  {
   "cell_type": "code",
   "execution_count": 39,
   "metadata": {},
   "outputs": [],
   "source": [
    "file_pos['extractive_tokens'] = file_pos.apply(lambda e: [word for idx in e.extractive \n",
    "                                               for word in e.pos_splitted[idx]], axis=1)"
   ]
  },
  {
   "cell_type": "code",
   "execution_count": 44,
   "metadata": {},
   "outputs": [],
   "source": [
    "file_pos['rouge-1'] = file_pos.apply(lambda e: len(set(e.abstractive_splitted).intersection(e.extractive_tokens)),\n",
    "                                     axis=1)"
   ]
  },
  {
   "cell_type": "code",
   "execution_count": 45,
   "metadata": {},
   "outputs": [
    {
     "data": {
      "text/plain": [
       "0        38\n",
       "1        45\n",
       "2        65\n",
       "3        52\n",
       "4        56\n",
       "         ..\n",
       "42798    43\n",
       "42799    43\n",
       "42800    32\n",
       "42801    37\n",
       "42802    40\n",
       "Name: rouge-1, Length: 42803, dtype: int64"
      ]
     },
     "execution_count": 45,
     "metadata": {},
     "output_type": "execute_result"
    }
   ],
   "source": [
    "file_pos['rouge-1']"
   ]
  },
  {
   "cell_type": "code",
   "execution_count": 51,
   "metadata": {},
   "outputs": [],
   "source": [
    "file_pos['rouge-1_each_sen'] = file_pos.apply(lambda e: [len(set(sen).intersection(e.extractive_tokens))\n",
    "                          for sen in e.pos_splitted], axis=1)"
   ]
  },
  {
   "cell_type": "code",
   "execution_count": 62,
   "metadata": {},
   "outputs": [],
   "source": [
    "file_pos['rouge-1_each_sen_sorted'] = file_pos['rouge-1_each_sen'].apply(lambda e: sorted(enumerate(e), \n",
    "                                                                                          key=lambda e: -e[1])[:3])"
   ]
  },
  {
   "cell_type": "code",
   "execution_count": 63,
   "metadata": {},
   "outputs": [
    {
     "data": {
      "text/html": [
       "<div>\n",
       "<style scoped>\n",
       "    .dataframe tbody tr th:only-of-type {\n",
       "        vertical-align: middle;\n",
       "    }\n",
       "\n",
       "    .dataframe tbody tr th {\n",
       "        vertical-align: top;\n",
       "    }\n",
       "\n",
       "    .dataframe thead th {\n",
       "        text-align: right;\n",
       "    }\n",
       "</style>\n",
       "<table border=\"1\" class=\"dataframe\">\n",
       "  <thead>\n",
       "    <tr style=\"text-align: right;\">\n",
       "      <th></th>\n",
       "      <th>extractive</th>\n",
       "      <th>rouge-1_each_sen_sorted</th>\n",
       "    </tr>\n",
       "  </thead>\n",
       "  <tbody>\n",
       "    <tr>\n",
       "      <th>0</th>\n",
       "      <td>[0, 1, 2]</td>\n",
       "      <td>[(1, 67), (2, 57), (0, 36)]</td>\n",
       "    </tr>\n",
       "    <tr>\n",
       "      <th>1</th>\n",
       "      <td>[0, 1, 3]</td>\n",
       "      <td>[(1, 36), (0, 23), (2, 18)]</td>\n",
       "    </tr>\n",
       "    <tr>\n",
       "      <th>2</th>\n",
       "      <td>[6, 7, 10]</td>\n",
       "      <td>[(6, 48), (16, 31), (10, 30)]</td>\n",
       "    </tr>\n",
       "    <tr>\n",
       "      <th>3</th>\n",
       "      <td>[1, 6, 4]</td>\n",
       "      <td>[(1, 38), (6, 26), (5, 24)]</td>\n",
       "    </tr>\n",
       "    <tr>\n",
       "      <th>4</th>\n",
       "      <td>[2, 3, 10]</td>\n",
       "      <td>[(2, 45), (10, 41), (3, 30)]</td>\n",
       "    </tr>\n",
       "    <tr>\n",
       "      <th>...</th>\n",
       "      <td>...</td>\n",
       "      <td>...</td>\n",
       "    </tr>\n",
       "    <tr>\n",
       "      <th>42798</th>\n",
       "      <td>[0, 1, 2]</td>\n",
       "      <td>[(0, 40), (1, 36), (2, 35)]</td>\n",
       "    </tr>\n",
       "    <tr>\n",
       "      <th>42799</th>\n",
       "      <td>[1, 2, 4]</td>\n",
       "      <td>[(2, 70), (4, 37), (1, 31)]</td>\n",
       "    </tr>\n",
       "    <tr>\n",
       "      <th>42800</th>\n",
       "      <td>[2, 3, 6]</td>\n",
       "      <td>[(3, 39), (6, 37), (2, 31)]</td>\n",
       "    </tr>\n",
       "    <tr>\n",
       "      <th>42801</th>\n",
       "      <td>[4, 6, 0]</td>\n",
       "      <td>[(0, 37), (4, 25), (6, 23)]</td>\n",
       "    </tr>\n",
       "    <tr>\n",
       "      <th>42802</th>\n",
       "      <td>[2, 5, 4]</td>\n",
       "      <td>[(4, 48), (5, 42), (0, 32)]</td>\n",
       "    </tr>\n",
       "  </tbody>\n",
       "</table>\n",
       "<p>42803 rows × 2 columns</p>\n",
       "</div>"
      ],
      "text/plain": [
       "       extractive        rouge-1_each_sen_sorted\n",
       "0       [0, 1, 2]    [(1, 67), (2, 57), (0, 36)]\n",
       "1       [0, 1, 3]    [(1, 36), (0, 23), (2, 18)]\n",
       "2      [6, 7, 10]  [(6, 48), (16, 31), (10, 30)]\n",
       "3       [1, 6, 4]    [(1, 38), (6, 26), (5, 24)]\n",
       "4      [2, 3, 10]   [(2, 45), (10, 41), (3, 30)]\n",
       "...           ...                            ...\n",
       "42798   [0, 1, 2]    [(0, 40), (1, 36), (2, 35)]\n",
       "42799   [1, 2, 4]    [(2, 70), (4, 37), (1, 31)]\n",
       "42800   [2, 3, 6]    [(3, 39), (6, 37), (2, 31)]\n",
       "42801   [4, 6, 0]    [(0, 37), (4, 25), (6, 23)]\n",
       "42802   [2, 5, 4]    [(4, 48), (5, 42), (0, 32)]\n",
       "\n",
       "[42803 rows x 2 columns]"
      ]
     },
     "execution_count": 63,
     "metadata": {},
     "output_type": "execute_result"
    }
   ],
   "source": [
    "file_pos[['extractive', 'rouge-1_each_sen_sorted']]"
   ]
  },
  {
   "cell_type": "code",
   "execution_count": 66,
   "metadata": {},
   "outputs": [],
   "source": [
    "file_pos['selected_by_abstractive'] = file_pos['rouge-1_each_sen_sorted'].apply(lambda e: [_[0] for _ in e])"
   ]
  },
  {
   "cell_type": "code",
   "execution_count": 73,
   "metadata": {},
   "outputs": [],
   "source": [
    "from collections import Counter"
   ]
  },
  {
   "cell_type": "code",
   "execution_count": 74,
   "metadata": {},
   "outputs": [
    {
     "data": {
      "text/plain": [
       "Counter({3: 29712, 2: 12779, 1: 312})"
      ]
     },
     "execution_count": 74,
     "metadata": {},
     "output_type": "execute_result"
    }
   ],
   "source": [
    "Counter(file_pos.apply(lambda e: len(set(e.extractive).intersection(e.selected_by_abstractive)), axis=1))"
   ]
  },
  {
   "cell_type": "code",
   "execution_count": 81,
   "metadata": {},
   "outputs": [],
   "source": [
    "file_pos['sentences_by_abstractive'] = file_pos.apply(lambda e: [word\n",
    "                                                                 for _ in e.selected_by_abstractive\n",
    "                                                                 for word in e.pos_splitted[_]], axis=1)"
   ]
  },
  {
   "cell_type": "code",
   "execution_count": 84,
   "metadata": {},
   "outputs": [],
   "source": [
    "file_pos['rouge-1_by_vote'] = file_pos.apply(lambda e: \n",
    "                                             len(set(e.abstractive_splitted).intersection(e.sentences_by_abstractive)),\n",
    "                                             axis=1)"
   ]
  },
  {
   "cell_type": "code",
   "execution_count": 85,
   "metadata": {},
   "outputs": [
    {
     "data": {
      "text/html": [
       "<div>\n",
       "<style scoped>\n",
       "    .dataframe tbody tr th:only-of-type {\n",
       "        vertical-align: middle;\n",
       "    }\n",
       "\n",
       "    .dataframe tbody tr th {\n",
       "        vertical-align: top;\n",
       "    }\n",
       "\n",
       "    .dataframe thead th {\n",
       "        text-align: right;\n",
       "    }\n",
       "</style>\n",
       "<table border=\"1\" class=\"dataframe\">\n",
       "  <thead>\n",
       "    <tr style=\"text-align: right;\">\n",
       "      <th></th>\n",
       "      <th>rouge-1</th>\n",
       "      <th>rouge-1_by_vote</th>\n",
       "    </tr>\n",
       "  </thead>\n",
       "  <tbody>\n",
       "    <tr>\n",
       "      <th>0</th>\n",
       "      <td>38</td>\n",
       "      <td>38</td>\n",
       "    </tr>\n",
       "    <tr>\n",
       "      <th>1</th>\n",
       "      <td>45</td>\n",
       "      <td>41</td>\n",
       "    </tr>\n",
       "    <tr>\n",
       "      <th>2</th>\n",
       "      <td>65</td>\n",
       "      <td>62</td>\n",
       "    </tr>\n",
       "    <tr>\n",
       "      <th>3</th>\n",
       "      <td>52</td>\n",
       "      <td>44</td>\n",
       "    </tr>\n",
       "    <tr>\n",
       "      <th>4</th>\n",
       "      <td>56</td>\n",
       "      <td>56</td>\n",
       "    </tr>\n",
       "    <tr>\n",
       "      <th>...</th>\n",
       "      <td>...</td>\n",
       "      <td>...</td>\n",
       "    </tr>\n",
       "    <tr>\n",
       "      <th>42798</th>\n",
       "      <td>43</td>\n",
       "      <td>43</td>\n",
       "    </tr>\n",
       "    <tr>\n",
       "      <th>42799</th>\n",
       "      <td>43</td>\n",
       "      <td>43</td>\n",
       "    </tr>\n",
       "    <tr>\n",
       "      <th>42800</th>\n",
       "      <td>32</td>\n",
       "      <td>32</td>\n",
       "    </tr>\n",
       "    <tr>\n",
       "      <th>42801</th>\n",
       "      <td>37</td>\n",
       "      <td>37</td>\n",
       "    </tr>\n",
       "    <tr>\n",
       "      <th>42802</th>\n",
       "      <td>40</td>\n",
       "      <td>40</td>\n",
       "    </tr>\n",
       "  </tbody>\n",
       "</table>\n",
       "<p>42803 rows × 2 columns</p>\n",
       "</div>"
      ],
      "text/plain": [
       "       rouge-1  rouge-1_by_vote\n",
       "0           38               38\n",
       "1           45               41\n",
       "2           65               62\n",
       "3           52               44\n",
       "4           56               56\n",
       "...        ...              ...\n",
       "42798       43               43\n",
       "42799       43               43\n",
       "42800       32               32\n",
       "42801       37               37\n",
       "42802       40               40\n",
       "\n",
       "[42803 rows x 2 columns]"
      ]
     },
     "execution_count": 85,
     "metadata": {},
     "output_type": "execute_result"
    }
   ],
   "source": [
    "file_pos[['rouge-1', 'rouge-1_by_vote']]"
   ]
  },
  {
   "cell_type": "code",
   "execution_count": 92,
   "metadata": {},
   "outputs": [
    {
     "data": {
      "text/plain": [
       "(41294, 16)"
      ]
     },
     "execution_count": 92,
     "metadata": {},
     "output_type": "execute_result"
    }
   ],
   "source": [
    "file_pos[file_pos['rouge-1'] >= file_pos['rouge-1_by_vote']].shape"
   ]
  },
  {
   "cell_type": "code",
   "execution_count": 91,
   "metadata": {},
   "outputs": [
    {
     "data": {
      "text/plain": [
       "(1509, 16)"
      ]
     },
     "execution_count": 91,
     "metadata": {},
     "output_type": "execute_result"
    }
   ],
   "source": [
    "file_pos[file_pos['rouge-1'] < file_pos['rouge-1_by_vote']].shape"
   ]
  },
  {
   "cell_type": "code",
   "execution_count": null,
   "metadata": {},
   "outputs": [],
   "source": []
  }
 ],
 "metadata": {
  "kernelspec": {
   "display_name": "long36v",
   "language": "python",
   "name": "long36v"
  },
  "language_info": {
   "codemirror_mode": {
    "name": "ipython",
    "version": 3
   },
   "file_extension": ".py",
   "mimetype": "text/x-python",
   "name": "python",
   "nbconvert_exporter": "python",
   "pygments_lexer": "ipython3",
   "version": "3.6.12"
  }
 },
 "nbformat": 4,
 "nbformat_minor": 4
}
